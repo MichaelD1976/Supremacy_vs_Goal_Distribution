{
 "cells": [
  {
   "cell_type": "markdown",
   "id": "e25022f8-2cde-470d-8f46-e97a3edcf6b9",
   "metadata": {},
   "source": [
    "## Analysis of Supremacy vs Goals Distribution\n",
    "----------------------------------------------"
   ]
  },
  {
   "cell_type": "markdown",
   "id": "a9010aed-dda9-44d3-a440-64c0006aa80c",
   "metadata": {},
   "source": [
    "#### This project seeks to investigate how goals are divided between the favourite and underdog in a soccer match and how this ratio changes with the pre-match supremacy difference between the teams.\n",
    "> Data was taken from football-data.co.uk and pre-processed to obtain all relevant expected match and over/under percentages."
   ]
  },
  {
   "cell_type": "markdown",
   "id": "1a071689-eeba-4d1d-8eec-4c43ea9ba4ee",
   "metadata": {},
   "source": [
    "#### Import python libraries"
   ]
  },
  {
   "cell_type": "code",
   "execution_count": 1,
   "id": "60c11d5e-2c7e-40d2-a471-5545cbdf9501",
   "metadata": {
    "tags": []
   },
   "outputs": [],
   "source": [
    "import pandas as pd\n",
    "import numpy as np\n",
    "import matplotlib.pyplot as plt\n",
    "import seaborn as sns\n",
    "plt.style.use('ggplot')\n",
    "from scipy import stats\n",
    "\n",
    "%matplotlib inline"
   ]
  },
  {
   "cell_type": "markdown",
   "id": "05126315-e4ab-44eb-bc6e-c759858f921a",
   "metadata": {},
   "source": [
    "#### Read in the data "
   ]
  },
  {
   "cell_type": "code",
   "execution_count": 2,
   "id": "90c5fd12-1a43-4856-8ea8-0806e65040a9",
   "metadata": {
    "tags": []
   },
   "outputs": [
    {
     "data": {
      "text/html": [
       "<div>\n",
       "<style scoped>\n",
       "    .dataframe tbody tr th:only-of-type {\n",
       "        vertical-align: middle;\n",
       "    }\n",
       "\n",
       "    .dataframe tbody tr th {\n",
       "        vertical-align: top;\n",
       "    }\n",
       "\n",
       "    .dataframe thead th {\n",
       "        text-align: right;\n",
       "    }\n",
       "</style>\n",
       "<table border=\"1\" class=\"dataframe\">\n",
       "  <thead>\n",
       "    <tr style=\"text-align: right;\">\n",
       "      <th></th>\n",
       "      <th>Div</th>\n",
       "      <th>Date</th>\n",
       "      <th>HomeTeam</th>\n",
       "      <th>AwayTeam</th>\n",
       "      <th>FTHG</th>\n",
       "      <th>FTAG</th>\n",
       "      <th>HST</th>\n",
       "      <th>AST</th>\n",
       "      <th>HF</th>\n",
       "      <th>AF</th>\n",
       "      <th>...</th>\n",
       "      <th>TR</th>\n",
       "      <th>HW_%</th>\n",
       "      <th>X_%</th>\n",
       "      <th>AW_%</th>\n",
       "      <th>Ov2.5_%</th>\n",
       "      <th>Un2.5_%</th>\n",
       "      <th>Exp</th>\n",
       "      <th>HG_Exp</th>\n",
       "      <th>AG_Exp</th>\n",
       "      <th>Sup Exp</th>\n",
       "    </tr>\n",
       "  </thead>\n",
       "  <tbody>\n",
       "    <tr>\n",
       "      <th>0</th>\n",
       "      <td>I1</td>\n",
       "      <td>21/08/2021</td>\n",
       "      <td>Inter</td>\n",
       "      <td>Genoa</td>\n",
       "      <td>4.0</td>\n",
       "      <td>0.0</td>\n",
       "      <td>8.0</td>\n",
       "      <td>5.0</td>\n",
       "      <td>18.0</td>\n",
       "      <td>7.0</td>\n",
       "      <td>...</td>\n",
       "      <td>0.0</td>\n",
       "      <td>0.71</td>\n",
       "      <td>0.19</td>\n",
       "      <td>0.11</td>\n",
       "      <td>0.58</td>\n",
       "      <td>0.42</td>\n",
       "      <td>3.03</td>\n",
       "      <td>2.44</td>\n",
       "      <td>0.62</td>\n",
       "      <td>1.82</td>\n",
       "    </tr>\n",
       "    <tr>\n",
       "      <th>1</th>\n",
       "      <td>I1</td>\n",
       "      <td>21/08/2021</td>\n",
       "      <td>Verona</td>\n",
       "      <td>Sassuolo</td>\n",
       "      <td>2.0</td>\n",
       "      <td>3.0</td>\n",
       "      <td>4.0</td>\n",
       "      <td>8.0</td>\n",
       "      <td>11.0</td>\n",
       "      <td>12.0</td>\n",
       "      <td>...</td>\n",
       "      <td>1.0</td>\n",
       "      <td>0.37</td>\n",
       "      <td>0.28</td>\n",
       "      <td>0.36</td>\n",
       "      <td>0.52</td>\n",
       "      <td>0.48</td>\n",
       "      <td>2.76</td>\n",
       "      <td>1.41</td>\n",
       "      <td>1.38</td>\n",
       "      <td>0.03</td>\n",
       "    </tr>\n",
       "    <tr>\n",
       "      <th>2</th>\n",
       "      <td>I1</td>\n",
       "      <td>21/08/2021</td>\n",
       "      <td>Empoli</td>\n",
       "      <td>Lazio</td>\n",
       "      <td>1.0</td>\n",
       "      <td>3.0</td>\n",
       "      <td>5.0</td>\n",
       "      <td>5.0</td>\n",
       "      <td>13.0</td>\n",
       "      <td>10.0</td>\n",
       "      <td>...</td>\n",
       "      <td>0.0</td>\n",
       "      <td>0.20</td>\n",
       "      <td>0.24</td>\n",
       "      <td>0.55</td>\n",
       "      <td>0.56</td>\n",
       "      <td>0.44</td>\n",
       "      <td>2.94</td>\n",
       "      <td>0.94</td>\n",
       "      <td>1.97</td>\n",
       "      <td>-1.03</td>\n",
       "    </tr>\n",
       "    <tr>\n",
       "      <th>3</th>\n",
       "      <td>I1</td>\n",
       "      <td>21/08/2021</td>\n",
       "      <td>Torino</td>\n",
       "      <td>Atalanta</td>\n",
       "      <td>1.0</td>\n",
       "      <td>2.0</td>\n",
       "      <td>8.0</td>\n",
       "      <td>2.0</td>\n",
       "      <td>17.0</td>\n",
       "      <td>13.0</td>\n",
       "      <td>...</td>\n",
       "      <td>0.0</td>\n",
       "      <td>0.18</td>\n",
       "      <td>0.23</td>\n",
       "      <td>0.60</td>\n",
       "      <td>0.61</td>\n",
       "      <td>0.39</td>\n",
       "      <td>3.14</td>\n",
       "      <td>0.93</td>\n",
       "      <td>2.25</td>\n",
       "      <td>-1.32</td>\n",
       "    </tr>\n",
       "    <tr>\n",
       "      <th>4</th>\n",
       "      <td>I1</td>\n",
       "      <td>22/08/2021</td>\n",
       "      <td>Bologna</td>\n",
       "      <td>Salernitana</td>\n",
       "      <td>3.0</td>\n",
       "      <td>2.0</td>\n",
       "      <td>7.0</td>\n",
       "      <td>4.0</td>\n",
       "      <td>13.0</td>\n",
       "      <td>15.0</td>\n",
       "      <td>...</td>\n",
       "      <td>3.0</td>\n",
       "      <td>0.58</td>\n",
       "      <td>0.24</td>\n",
       "      <td>0.19</td>\n",
       "      <td>0.53</td>\n",
       "      <td>0.47</td>\n",
       "      <td>2.79</td>\n",
       "      <td>1.95</td>\n",
       "      <td>0.86</td>\n",
       "      <td>1.09</td>\n",
       "    </tr>\n",
       "  </tbody>\n",
       "</table>\n",
       "<p>5 rows × 31 columns</p>\n",
       "</div>"
      ],
      "text/plain": [
       "  Div        Date HomeTeam     AwayTeam  FTHG  FTAG  HST  AST    HF    AF  \\\n",
       "0  I1  21/08/2021    Inter        Genoa   4.0   0.0  8.0  5.0  18.0   7.0   \n",
       "1  I1  21/08/2021   Verona     Sassuolo   2.0   3.0  4.0  8.0  11.0  12.0   \n",
       "2  I1  21/08/2021   Empoli        Lazio   1.0   3.0  5.0  5.0  13.0  10.0   \n",
       "3  I1  21/08/2021   Torino     Atalanta   1.0   2.0  8.0  2.0  17.0  13.0   \n",
       "4  I1  22/08/2021  Bologna  Salernitana   3.0   2.0  7.0  4.0  13.0  15.0   \n",
       "\n",
       "   ...   TR  HW_%   X_%  AW_%  Ov2.5_%  Un2.5_%   Exp  HG_Exp  AG_Exp  Sup Exp  \n",
       "0  ...  0.0  0.71  0.19  0.11     0.58     0.42  3.03    2.44    0.62     1.82  \n",
       "1  ...  1.0  0.37  0.28  0.36     0.52     0.48  2.76    1.41    1.38     0.03  \n",
       "2  ...  0.0  0.20  0.24  0.55     0.56     0.44  2.94    0.94    1.97    -1.03  \n",
       "3  ...  0.0  0.18  0.23  0.60     0.61     0.39  3.14    0.93    2.25    -1.32  \n",
       "4  ...  3.0  0.58  0.24  0.19     0.53     0.47  2.79    1.95    0.86     1.09  \n",
       "\n",
       "[5 rows x 31 columns]"
      ]
     },
     "execution_count": 2,
     "metadata": {},
     "output_type": "execute_result"
    }
   ],
   "source": [
    "df = pd.read_csv('C:\\\\Users\\\\MikeD\\\\Documents\\\\Leagues_Data_Combined.csv', index_col=[0])\n",
    "df.head(5)"
   ]
  },
  {
   "cell_type": "markdown",
   "id": "356991de-45fd-4430-93db-4ef9bcd653f6",
   "metadata": {},
   "source": [
    "#### Basic checks of the data frame"
   ]
  },
  {
   "cell_type": "code",
   "execution_count": 3,
   "id": "b19e195c-6616-428f-972b-cb0903cb6d00",
   "metadata": {
    "tags": []
   },
   "outputs": [
    {
     "data": {
      "text/plain": [
       "(145313, 31)"
      ]
     },
     "execution_count": 3,
     "metadata": {},
     "output_type": "execute_result"
    }
   ],
   "source": [
    "df.shape"
   ]
  },
  {
   "cell_type": "code",
   "execution_count": 4,
   "id": "66478f59-7582-44e7-b314-a5a55fb0ab84",
   "metadata": {
    "tags": []
   },
   "outputs": [
    {
     "data": {
      "text/plain": [
       "Index(['Div', 'Date', 'HomeTeam', 'AwayTeam', 'FTHG', 'FTAG', 'HST', 'AST',\n",
       "       'HF', 'AF', 'HC', 'AC', 'HY', 'AY', 'HR', 'AR', 'TG', 'TST', 'TF', 'TC',\n",
       "       'TY', 'TR', 'HW_%', 'X_%', 'AW_%', 'Ov2.5_%', 'Un2.5_%', 'Exp',\n",
       "       'HG_Exp', 'AG_Exp', 'Sup Exp'],\n",
       "      dtype='object')"
      ]
     },
     "execution_count": 4,
     "metadata": {},
     "output_type": "execute_result"
    }
   ],
   "source": [
    "df.columns"
   ]
  },
  {
   "cell_type": "code",
   "execution_count": 5,
   "id": "a1495794-a635-48a4-acfd-2ac6652b5a16",
   "metadata": {},
   "outputs": [
    {
     "data": {
      "text/html": [
       "<div>\n",
       "<style scoped>\n",
       "    .dataframe tbody tr th:only-of-type {\n",
       "        vertical-align: middle;\n",
       "    }\n",
       "\n",
       "    .dataframe tbody tr th {\n",
       "        vertical-align: top;\n",
       "    }\n",
       "\n",
       "    .dataframe thead th {\n",
       "        text-align: right;\n",
       "    }\n",
       "</style>\n",
       "<table border=\"1\" class=\"dataframe\">\n",
       "  <thead>\n",
       "    <tr style=\"text-align: right;\">\n",
       "      <th></th>\n",
       "      <th>TG</th>\n",
       "      <th>Exp</th>\n",
       "    </tr>\n",
       "  </thead>\n",
       "  <tbody>\n",
       "    <tr>\n",
       "      <th>TG</th>\n",
       "      <td>1.000000</td>\n",
       "      <td>0.188652</td>\n",
       "    </tr>\n",
       "    <tr>\n",
       "      <th>Exp</th>\n",
       "      <td>0.188652</td>\n",
       "      <td>1.000000</td>\n",
       "    </tr>\n",
       "  </tbody>\n",
       "</table>\n",
       "</div>"
      ],
      "text/plain": [
       "           TG       Exp\n",
       "TG   1.000000  0.188652\n",
       "Exp  0.188652  1.000000"
      ]
     },
     "execution_count": 5,
     "metadata": {},
     "output_type": "execute_result"
    }
   ],
   "source": [
    "# Compare Expected goals with actual goals\n",
    "dfgls = df[['TG','Exp']]\n",
    "dfgls.corr()"
   ]
  },
  {
   "cell_type": "markdown",
   "id": "6bb15ef8-c09a-419a-ba42-b539c342c8ab",
   "metadata": {},
   "source": [
    "#### Lets visualize the data relationship of Total Goals v Expected match goals"
   ]
  },
  {
   "cell_type": "code",
   "execution_count": 6,
   "id": "f3349ec9-b340-4c61-8c43-adaf477591b4",
   "metadata": {
    "tags": []
   },
   "outputs": [
    {
     "data": {
      "text/plain": [
       "<AxesSubplot:xlabel='Exp', ylabel='TG'>"
      ]
     },
     "execution_count": 6,
     "metadata": {},
     "output_type": "execute_result"
    },
    {
     "data": {
      "image/png": "[encoded data removed]",
      "text/plain": [
       "<Figure size 640x480 with 1 Axes>"
      ]
     },
     "metadata": {},
     "output_type": "display_data"
    }
   ],
   "source": [
    "sns.lineplot(data = dfgls,x='Exp',y='TG')"
   ]
  },
  {
   "cell_type": "markdown",
   "id": "b06d6bc2-eee5-4bbf-8806-2dac0a3ea922",
   "metadata": {},
   "source": [
    "#### Lets prepare the data frame for analysis"
   ]
  },
  {
   "cell_type": "code",
   "execution_count": 7,
   "id": "cdabe4f6-d37a-4073-aa7a-e6c401cf013c",
   "metadata": {
    "tags": []
   },
   "outputs": [
    {
     "data": {
      "text/html": [
       "<div>\n",
       "<style scoped>\n",
       "    .dataframe tbody tr th:only-of-type {\n",
       "        vertical-align: middle;\n",
       "    }\n",
       "\n",
       "    .dataframe tbody tr th {\n",
       "        vertical-align: top;\n",
       "    }\n",
       "\n",
       "    .dataframe thead th {\n",
       "        text-align: right;\n",
       "    }\n",
       "</style>\n",
       "<table border=\"1\" class=\"dataframe\">\n",
       "  <thead>\n",
       "    <tr style=\"text-align: right;\">\n",
       "      <th></th>\n",
       "      <th>Sup Exp</th>\n",
       "      <th>FTHG</th>\n",
       "      <th>FTAG</th>\n",
       "      <th>TG</th>\n",
       "      <th>HG_Exp</th>\n",
       "      <th>AG_Exp</th>\n",
       "      <th>Exp</th>\n",
       "    </tr>\n",
       "  </thead>\n",
       "  <tbody>\n",
       "    <tr>\n",
       "      <th>0</th>\n",
       "      <td>1.82</td>\n",
       "      <td>4.0</td>\n",
       "      <td>0.0</td>\n",
       "      <td>4.0</td>\n",
       "      <td>2.44</td>\n",
       "      <td>0.62</td>\n",
       "      <td>3.03</td>\n",
       "    </tr>\n",
       "    <tr>\n",
       "      <th>1</th>\n",
       "      <td>0.03</td>\n",
       "      <td>2.0</td>\n",
       "      <td>3.0</td>\n",
       "      <td>5.0</td>\n",
       "      <td>1.41</td>\n",
       "      <td>1.38</td>\n",
       "      <td>2.76</td>\n",
       "    </tr>\n",
       "    <tr>\n",
       "      <th>2</th>\n",
       "      <td>-1.03</td>\n",
       "      <td>1.0</td>\n",
       "      <td>3.0</td>\n",
       "      <td>4.0</td>\n",
       "      <td>0.94</td>\n",
       "      <td>1.97</td>\n",
       "      <td>2.94</td>\n",
       "    </tr>\n",
       "    <tr>\n",
       "      <th>3</th>\n",
       "      <td>-1.32</td>\n",
       "      <td>1.0</td>\n",
       "      <td>2.0</td>\n",
       "      <td>3.0</td>\n",
       "      <td>0.93</td>\n",
       "      <td>2.25</td>\n",
       "      <td>3.14</td>\n",
       "    </tr>\n",
       "    <tr>\n",
       "      <th>4</th>\n",
       "      <td>1.09</td>\n",
       "      <td>3.0</td>\n",
       "      <td>2.0</td>\n",
       "      <td>5.0</td>\n",
       "      <td>1.95</td>\n",
       "      <td>0.86</td>\n",
       "      <td>2.79</td>\n",
       "    </tr>\n",
       "  </tbody>\n",
       "</table>\n",
       "</div>"
      ],
      "text/plain": [
       "   Sup Exp  FTHG  FTAG   TG  HG_Exp  AG_Exp   Exp\n",
       "0     1.82   4.0   0.0  4.0    2.44    0.62  3.03\n",
       "1     0.03   2.0   3.0  5.0    1.41    1.38  2.76\n",
       "2    -1.03   1.0   3.0  4.0    0.94    1.97  2.94\n",
       "3    -1.32   1.0   2.0  3.0    0.93    2.25  3.14\n",
       "4     1.09   3.0   2.0  5.0    1.95    0.86  2.79"
      ]
     },
     "execution_count": 7,
     "metadata": {},
     "output_type": "execute_result"
    }
   ],
   "source": [
    "#Isolate Required Columns\n",
    "df = df[['Sup Exp','FTHG','FTAG','TG','HG_Exp','AG_Exp', 'Exp']]\n",
    "df.head()"
   ]
  },
  {
   "cell_type": "code",
   "execution_count": 8,
   "id": "15e3c546-c6ea-43e2-98eb-996f6b21f58a",
   "metadata": {},
   "outputs": [
    {
     "data": {
      "text/html": [
       "<div>\n",
       "<style scoped>\n",
       "    .dataframe tbody tr th:only-of-type {\n",
       "        vertical-align: middle;\n",
       "    }\n",
       "\n",
       "    .dataframe tbody tr th {\n",
       "        vertical-align: top;\n",
       "    }\n",
       "\n",
       "    .dataframe thead th {\n",
       "        text-align: right;\n",
       "    }\n",
       "</style>\n",
       "<table border=\"1\" class=\"dataframe\">\n",
       "  <thead>\n",
       "    <tr style=\"text-align: right;\">\n",
       "      <th></th>\n",
       "      <th>Sup Exp</th>\n",
       "      <th>FTHG</th>\n",
       "      <th>FTAG</th>\n",
       "      <th>TG</th>\n",
       "      <th>HG_Exp</th>\n",
       "      <th>AG_Exp</th>\n",
       "      <th>Exp</th>\n",
       "    </tr>\n",
       "  </thead>\n",
       "  <tbody>\n",
       "    <tr>\n",
       "      <th>0</th>\n",
       "      <td>1.82</td>\n",
       "      <td>4.0</td>\n",
       "      <td>0.0</td>\n",
       "      <td>4.0</td>\n",
       "      <td>2.44</td>\n",
       "      <td>0.62</td>\n",
       "      <td>3.03</td>\n",
       "    </tr>\n",
       "    <tr>\n",
       "      <th>1</th>\n",
       "      <td>0.03</td>\n",
       "      <td>2.0</td>\n",
       "      <td>3.0</td>\n",
       "      <td>5.0</td>\n",
       "      <td>1.41</td>\n",
       "      <td>1.38</td>\n",
       "      <td>2.76</td>\n",
       "    </tr>\n",
       "    <tr>\n",
       "      <th>2</th>\n",
       "      <td>-1.03</td>\n",
       "      <td>1.0</td>\n",
       "      <td>3.0</td>\n",
       "      <td>4.0</td>\n",
       "      <td>0.94</td>\n",
       "      <td>1.97</td>\n",
       "      <td>2.94</td>\n",
       "    </tr>\n",
       "    <tr>\n",
       "      <th>3</th>\n",
       "      <td>-1.32</td>\n",
       "      <td>1.0</td>\n",
       "      <td>2.0</td>\n",
       "      <td>3.0</td>\n",
       "      <td>0.93</td>\n",
       "      <td>2.25</td>\n",
       "      <td>3.14</td>\n",
       "    </tr>\n",
       "    <tr>\n",
       "      <th>4</th>\n",
       "      <td>1.09</td>\n",
       "      <td>3.0</td>\n",
       "      <td>2.0</td>\n",
       "      <td>5.0</td>\n",
       "      <td>1.95</td>\n",
       "      <td>0.86</td>\n",
       "      <td>2.79</td>\n",
       "    </tr>\n",
       "    <tr>\n",
       "      <th>...</th>\n",
       "      <td>...</td>\n",
       "      <td>...</td>\n",
       "      <td>...</td>\n",
       "      <td>...</td>\n",
       "      <td>...</td>\n",
       "      <td>...</td>\n",
       "      <td>...</td>\n",
       "    </tr>\n",
       "    <tr>\n",
       "      <th>143652</th>\n",
       "      <td>-0.23</td>\n",
       "      <td>2.0</td>\n",
       "      <td>3.0</td>\n",
       "      <td>5.0</td>\n",
       "      <td>1.15</td>\n",
       "      <td>1.38</td>\n",
       "      <td>2.53</td>\n",
       "    </tr>\n",
       "    <tr>\n",
       "      <th>143653</th>\n",
       "      <td>0.64</td>\n",
       "      <td>0.0</td>\n",
       "      <td>2.0</td>\n",
       "      <td>2.0</td>\n",
       "      <td>1.60</td>\n",
       "      <td>0.96</td>\n",
       "      <td>2.56</td>\n",
       "    </tr>\n",
       "    <tr>\n",
       "      <th>143654</th>\n",
       "      <td>-0.21</td>\n",
       "      <td>1.0</td>\n",
       "      <td>2.0</td>\n",
       "      <td>3.0</td>\n",
       "      <td>1.16</td>\n",
       "      <td>1.37</td>\n",
       "      <td>2.53</td>\n",
       "    </tr>\n",
       "    <tr>\n",
       "      <th>143655</th>\n",
       "      <td>0.26</td>\n",
       "      <td>0.0</td>\n",
       "      <td>0.0</td>\n",
       "      <td>0.0</td>\n",
       "      <td>1.43</td>\n",
       "      <td>1.17</td>\n",
       "      <td>2.62</td>\n",
       "    </tr>\n",
       "    <tr>\n",
       "      <th>143656</th>\n",
       "      <td>0.77</td>\n",
       "      <td>0.0</td>\n",
       "      <td>0.0</td>\n",
       "      <td>0.0</td>\n",
       "      <td>1.68</td>\n",
       "      <td>0.91</td>\n",
       "      <td>2.56</td>\n",
       "    </tr>\n",
       "  </tbody>\n",
       "</table>\n",
       "<p>121847 rows × 7 columns</p>\n",
       "</div>"
      ],
      "text/plain": [
       "        Sup Exp  FTHG  FTAG   TG  HG_Exp  AG_Exp   Exp\n",
       "0          1.82   4.0   0.0  4.0    2.44    0.62  3.03\n",
       "1          0.03   2.0   3.0  5.0    1.41    1.38  2.76\n",
       "2         -1.03   1.0   3.0  4.0    0.94    1.97  2.94\n",
       "3         -1.32   1.0   2.0  3.0    0.93    2.25  3.14\n",
       "4          1.09   3.0   2.0  5.0    1.95    0.86  2.79\n",
       "...         ...   ...   ...  ...     ...     ...   ...\n",
       "143652    -0.23   2.0   3.0  5.0    1.15    1.38  2.53\n",
       "143653     0.64   0.0   2.0  2.0    1.60    0.96  2.56\n",
       "143654    -0.21   1.0   2.0  3.0    1.16    1.37  2.53\n",
       "143655     0.26   0.0   0.0  0.0    1.43    1.17  2.62\n",
       "143656     0.77   0.0   0.0  0.0    1.68    0.91  2.56\n",
       "\n",
       "[121847 rows x 7 columns]"
      ]
     },
     "execution_count": 8,
     "metadata": {},
     "output_type": "execute_result"
    }
   ],
   "source": [
    "# remove any rows containing null values\n",
    "df.dropna(inplace=True)\n",
    "df"
   ]
  },
  {
   "cell_type": "markdown",
   "id": "65a2d76a-24cf-413a-9d66-0f087ac9464c",
   "metadata": {},
   "source": [
    "#### Lets observe some descriptive stats of our data"
   ]
  },
  {
   "cell_type": "code",
   "execution_count": 9,
   "id": "e3b1544d-4806-4235-a86e-3453e2690a86",
   "metadata": {
    "tags": []
   },
   "outputs": [
    {
     "data": {
      "text/html": [
       "<div>\n",
       "<style scoped>\n",
       "    .dataframe tbody tr th:only-of-type {\n",
       "        vertical-align: middle;\n",
       "    }\n",
       "\n",
       "    .dataframe tbody tr th {\n",
       "        vertical-align: top;\n",
       "    }\n",
       "\n",
       "    .dataframe thead th {\n",
       "        text-align: right;\n",
       "    }\n",
       "</style>\n",
       "<table border=\"1\" class=\"dataframe\">\n",
       "  <thead>\n",
       "    <tr style=\"text-align: right;\">\n",
       "      <th></th>\n",
       "      <th>Sup Exp</th>\n",
       "      <th>FTHG</th>\n",
       "      <th>FTAG</th>\n",
       "      <th>TG</th>\n",
       "      <th>HG_Exp</th>\n",
       "      <th>AG_Exp</th>\n",
       "      <th>Exp</th>\n",
       "    </tr>\n",
       "  </thead>\n",
       "  <tbody>\n",
       "    <tr>\n",
       "      <th>count</th>\n",
       "      <td>121847.000000</td>\n",
       "      <td>121847.000000</td>\n",
       "      <td>121847.000000</td>\n",
       "      <td>121847.000000</td>\n",
       "      <td>121847.000000</td>\n",
       "      <td>121847.000000</td>\n",
       "      <td>121847.000000</td>\n",
       "    </tr>\n",
       "    <tr>\n",
       "      <th>mean</th>\n",
       "      <td>0.384118</td>\n",
       "      <td>1.468653</td>\n",
       "      <td>1.144082</td>\n",
       "      <td>2.612736</td>\n",
       "      <td>1.508868</td>\n",
       "      <td>1.124750</td>\n",
       "      <td>2.633687</td>\n",
       "    </tr>\n",
       "    <tr>\n",
       "      <th>std</th>\n",
       "      <td>0.773549</td>\n",
       "      <td>1.240561</td>\n",
       "      <td>1.111854</td>\n",
       "      <td>1.635897</td>\n",
       "      <td>0.438589</td>\n",
       "      <td>0.384647</td>\n",
       "      <td>0.286418</td>\n",
       "    </tr>\n",
       "    <tr>\n",
       "      <th>min</th>\n",
       "      <td>-3.160000</td>\n",
       "      <td>0.000000</td>\n",
       "      <td>0.000000</td>\n",
       "      <td>0.000000</td>\n",
       "      <td>0.220000</td>\n",
       "      <td>0.240000</td>\n",
       "      <td>1.820000</td>\n",
       "    </tr>\n",
       "    <tr>\n",
       "      <th>25%</th>\n",
       "      <td>0.000000</td>\n",
       "      <td>1.000000</td>\n",
       "      <td>0.000000</td>\n",
       "      <td>1.000000</td>\n",
       "      <td>1.240000</td>\n",
       "      <td>0.880000</td>\n",
       "      <td>2.440000</td>\n",
       "    </tr>\n",
       "    <tr>\n",
       "      <th>50%</th>\n",
       "      <td>0.360000</td>\n",
       "      <td>1.000000</td>\n",
       "      <td>1.000000</td>\n",
       "      <td>2.000000</td>\n",
       "      <td>1.440000</td>\n",
       "      <td>1.070000</td>\n",
       "      <td>2.600000</td>\n",
       "    </tr>\n",
       "    <tr>\n",
       "      <th>75%</th>\n",
       "      <td>0.800000</td>\n",
       "      <td>2.000000</td>\n",
       "      <td>2.000000</td>\n",
       "      <td>4.000000</td>\n",
       "      <td>1.710000</td>\n",
       "      <td>1.300000</td>\n",
       "      <td>2.790000</td>\n",
       "    </tr>\n",
       "    <tr>\n",
       "      <th>max</th>\n",
       "      <td>3.320000</td>\n",
       "      <td>10.000000</td>\n",
       "      <td>13.000000</td>\n",
       "      <td>13.000000</td>\n",
       "      <td>3.570000</td>\n",
       "      <td>3.400000</td>\n",
       "      <td>3.820000</td>\n",
       "    </tr>\n",
       "  </tbody>\n",
       "</table>\n",
       "</div>"
      ],
      "text/plain": [
       "             Sup Exp           FTHG           FTAG             TG  \\\n",
       "count  121847.000000  121847.000000  121847.000000  121847.000000   \n",
       "mean        0.384118       1.468653       1.144082       2.612736   \n",
       "std         0.773549       1.240561       1.111854       1.635897   \n",
       "min        -3.160000       0.000000       0.000000       0.000000   \n",
       "25%         0.000000       1.000000       0.000000       1.000000   \n",
       "50%         0.360000       1.000000       1.000000       2.000000   \n",
       "75%         0.800000       2.000000       2.000000       4.000000   \n",
       "max         3.320000      10.000000      13.000000      13.000000   \n",
       "\n",
       "              HG_Exp         AG_Exp            Exp  \n",
       "count  121847.000000  121847.000000  121847.000000  \n",
       "mean        1.508868       1.124750       2.633687  \n",
       "std         0.438589       0.384647       0.286418  \n",
       "min         0.220000       0.240000       1.820000  \n",
       "25%         1.240000       0.880000       2.440000  \n",
       "50%         1.440000       1.070000       2.600000  \n",
       "75%         1.710000       1.300000       2.790000  \n",
       "max         3.570000       3.400000       3.820000  "
      ]
     },
     "execution_count": 9,
     "metadata": {},
     "output_type": "execute_result"
    }
   ],
   "source": [
    "df.describe()"
   ]
  },
  {
   "cell_type": "markdown",
   "id": "99e13eb2-1e43-48bd-93da-ae9ee41695aa",
   "metadata": {},
   "source": [
    "#### Lets bucket our data into categories of supremacy to make analysis easier"
   ]
  },
  {
   "cell_type": "code",
   "execution_count": 10,
   "id": "8923a5a9-4a4d-44b4-8fff-2bae333fba6d",
   "metadata": {
    "tags": []
   },
   "outputs": [
    {
     "name": "stdout",
     "output_type": "stream",
     "text": [
      "Avg Sup for all matches Sup >= 2.4:  2.67\n",
      "Avg HG:  2.94\n",
      "Avg AG:  0.61\n",
      "Avg TG:  3.55\n"
     ]
    }
   ],
   "source": [
    "df1 = df[df['Sup Exp']>=2.4]\n",
    "a1 = round(df1['Sup Exp'].mean(),2)\n",
    "b1 = round(df1['FTHG'].mean(),2)\n",
    "c1 = round(df1['FTAG'].mean(),2)\n",
    "d1 = round(df1['TG'].mean(),2)\n",
    "print('Avg Sup for all matches Sup >= 2.4: ',a1)\n",
    "print('Avg HG: ',b1)\n",
    "print('Avg AG: ',c1)\n",
    "print('Avg TG: ',d1)"
   ]
  },
  {
   "cell_type": "code",
   "execution_count": 11,
   "id": "726d8000-ac04-49fb-be82-caad78fbdaaf",
   "metadata": {
    "tags": []
   },
   "outputs": [
    {
     "name": "stdout",
     "output_type": "stream",
     "text": [
      "Avg Sup for all matches 2 <= Sup > 2.4:  2.18\n",
      "Avg HG:  2.52\n",
      "Avg AG:  0.66\n",
      "Avg TG:  3.18\n"
     ]
    }
   ],
   "source": [
    "\n",
    "df2 = df[(df['Sup Exp']>=2) & (df['Sup Exp']<2.4)]\n",
    "a2 = round(df2['Sup Exp'].mean(),2)\n",
    "b2 = round(df2['FTHG'].mean(),2)\n",
    "c2 = round(df2['FTAG'].mean(),2)\n",
    "d2 = round(df2['TG'].mean(),2)\n",
    "print('Avg Sup for all matches 2 <= Sup > 2.4: ',a2)\n",
    "print('Avg HG: ',b2)\n",
    "print('Avg AG: ',c2)\n",
    "print('Avg TG: ',d2)"
   ]
  },
  {
   "cell_type": "code",
   "execution_count": 12,
   "id": "44d8c247-7f85-431e-bcd9-75ef6de58ca0",
   "metadata": {},
   "outputs": [
    {
     "name": "stdout",
     "output_type": "stream",
     "text": [
      "Avg Sup for all matches 1.7 <= Sup > 2:  1.83\n",
      "Avg HG:  2.32\n",
      "Avg AG:  0.72\n",
      "Avg TG:  3.04\n"
     ]
    }
   ],
   "source": [
    "df3 = df[(df['Sup Exp']>=1.7) & (df['Sup Exp']<2)]\n",
    "a3 = round(df3['Sup Exp'].mean(),2)\n",
    "b3 = round(df3['FTHG'].mean(),2)\n",
    "c3 = round(df3['FTAG'].mean(),2)\n",
    "d3 = round(df3['TG'].mean(),2)\n",
    "print('Avg Sup for all matches 1.7 <= Sup > 2: ',a3)\n",
    "print('Avg HG: ',b3)\n",
    "print('Avg AG: ',c3)\n",
    "print('Avg TG: ',d3)"
   ]
  },
  {
   "cell_type": "code",
   "execution_count": 13,
   "id": "821d3040-d0b2-49f2-ba99-f00190d232c6",
   "metadata": {},
   "outputs": [
    {
     "name": "stdout",
     "output_type": "stream",
     "text": [
      "Avg Sup for all matches 1.4 <= Sup > 2.4:  1.54\n",
      "Avg HG:  2.14\n",
      "Avg AG:  0.8\n",
      "Avg TG:  2.94\n"
     ]
    }
   ],
   "source": [
    "df4 = df[(df['Sup Exp']>=1.4) & (df['Sup Exp']<1.7)]\n",
    "a4 = round(df4['Sup Exp'].mean(),2)\n",
    "b4 = round(df4['FTHG'].mean(),2)\n",
    "c4 = round(df4['FTAG'].mean(),2)\n",
    "d4 = round(df4['TG'].mean(),2)\n",
    "print('Avg Sup for all matches 1.4 <= Sup > 2.4: ',a4)\n",
    "print('Avg HG: ',b4)\n",
    "print('Avg AG: ',c4)\n",
    "print('Avg TG: ',d4)"
   ]
  },
  {
   "cell_type": "code",
   "execution_count": 14,
   "id": "0b24396b-4eb4-4bda-8b40-ef8bc14cfc42",
   "metadata": {},
   "outputs": [
    {
     "name": "stdout",
     "output_type": "stream",
     "text": [
      "Avg Sup for all matches <= 1.1 Sup > 2.4:  1.23\n",
      "Avg HG:  1.9\n",
      "Avg AG:  0.87\n",
      "Avg TG:  2.77\n"
     ]
    }
   ],
   "source": [
    "df5 = df[(df['Sup Exp']>=1.1) & (df['Sup Exp']<1.4)]\n",
    "a5 = round(df5['Sup Exp'].mean(),2)\n",
    "b5 = round(df5['FTHG'].mean(),2)\n",
    "c5 = round(df5['FTAG'].mean(),2)\n",
    "d5 = round(df5['TG'].mean(),2)\n",
    "print('Avg Sup for all matches <= 1.1 Sup > 2.4: ',a5)\n",
    "print('Avg HG: ',b5)\n",
    "print('Avg AG: ',c5)\n",
    "print('Avg TG: ',d5)"
   ]
  },
  {
   "cell_type": "code",
   "execution_count": 15,
   "id": "65a38699-4167-4656-a11d-6ff6d4f311f9",
   "metadata": {},
   "outputs": [
    {
     "name": "stdout",
     "output_type": "stream",
     "text": [
      "Avg Sup for all matches 0.7 <= Sup > 1.1:  0.87\n",
      "Avg HG:  1.68\n",
      "Avg AG:  0.95\n",
      "Avg TG:  2.63\n"
     ]
    }
   ],
   "source": [
    "df6 = df[(df['Sup Exp']>=0.7) & (df['Sup Exp']<1.1)]\n",
    "a6 = round(df6['Sup Exp'].mean(),2)\n",
    "b6 = round(df6['FTHG'].mean(),2)\n",
    "c6 = round(df6['FTAG'].mean(),2)\n",
    "d6 = round(df6['TG'].mean(),2)\n",
    "print('Avg Sup for all matches 0.7 <= Sup > 1.1: ',a6)\n",
    "print('Avg HG: ',b6)\n",
    "print('Avg AG: ',c6)\n",
    "print('Avg TG: ',d6)"
   ]
  },
  {
   "cell_type": "code",
   "execution_count": 16,
   "id": "2ec05c99-ddf9-4d5e-a97c-c4fa8936d0bd",
   "metadata": {},
   "outputs": [
    {
     "name": "stdout",
     "output_type": "stream",
     "text": [
      "Avg Sup for all matches 0.3 <= Sup > 0.7:  0.48\n",
      "Avg HG:  1.44\n",
      "Avg AG:  1.03\n",
      "Avg TG:  2.48\n"
     ]
    }
   ],
   "source": [
    "df7 = df[(df['Sup Exp']>=0.3) & (df['Sup Exp']<0.7)]\n",
    "a7 = round(df7['Sup Exp'].mean(),2)\n",
    "b7 = round(df7['FTHG'].mean(),2)\n",
    "c7 = round(df7['FTAG'].mean(),2)\n",
    "d7 = round(df7['TG'].mean(),2)\n",
    "print('Avg Sup for all matches 0.3 <= Sup > 0.7: ',a7)\n",
    "print('Avg HG: ',b7)\n",
    "print('Avg AG: ',c7)\n",
    "print('Avg TG: ',d7)"
   ]
  },
  {
   "cell_type": "code",
   "execution_count": 17,
   "id": "86c5f569-91ad-42fb-8fad-c2d1ac9645c6",
   "metadata": {},
   "outputs": [
    {
     "name": "stdout",
     "output_type": "stream",
     "text": [
      "Avg Sup for all matches Sup >= 2.4:  0.15\n",
      "Avg HG:  1.3\n",
      "Avg AG:  1.17\n",
      "Avg TG:  2.47\n"
     ]
    }
   ],
   "source": [
    "df8 = df[(df['Sup Exp']>=0) & (df['Sup Exp']<0.3)]\n",
    "a8 = round(df8['Sup Exp'].mean(),2)\n",
    "b8 = round(df8['FTHG'].mean(),2)\n",
    "c8 = round(df8['FTAG'].mean(),2)\n",
    "d8 = round(df8['TG'].mean(),2)\n",
    "print('Avg Sup for all matches Sup >= 2.4: ',a8)\n",
    "print('Avg HG: ',b8)\n",
    "print('Avg AG: ',c8)\n",
    "print('Avg TG: ',d8)"
   ]
  },
  {
   "cell_type": "markdown",
   "id": "5bc04366-4c27-4d3c-971e-d15108d89dc1",
   "metadata": {},
   "source": [
    "#### Lets now merge this bucketted data to a single data frame"
   ]
  },
  {
   "cell_type": "code",
   "execution_count": 18,
   "id": "8c10634a-703b-4aac-91de-267ba0776e8e",
   "metadata": {
    "tags": []
   },
   "outputs": [
    {
     "data": {
      "text/html": [
       "<div>\n",
       "<style scoped>\n",
       "    .dataframe tbody tr th:only-of-type {\n",
       "        vertical-align: middle;\n",
       "    }\n",
       "\n",
       "    .dataframe tbody tr th {\n",
       "        vertical-align: top;\n",
       "    }\n",
       "\n",
       "    .dataframe thead th {\n",
       "        text-align: right;\n",
       "    }\n",
       "</style>\n",
       "<table border=\"1\" class=\"dataframe\">\n",
       "  <thead>\n",
       "    <tr style=\"text-align: right;\">\n",
       "      <th></th>\n",
       "      <th>Sup</th>\n",
       "      <th>HG</th>\n",
       "      <th>AG</th>\n",
       "      <th>TG</th>\n",
       "    </tr>\n",
       "  </thead>\n",
       "  <tbody>\n",
       "    <tr>\n",
       "      <th>0</th>\n",
       "      <td>2.67</td>\n",
       "      <td>2.94</td>\n",
       "      <td>0.61</td>\n",
       "      <td>3.55</td>\n",
       "    </tr>\n",
       "    <tr>\n",
       "      <th>1</th>\n",
       "      <td>2.18</td>\n",
       "      <td>2.52</td>\n",
       "      <td>0.66</td>\n",
       "      <td>3.18</td>\n",
       "    </tr>\n",
       "    <tr>\n",
       "      <th>2</th>\n",
       "      <td>1.83</td>\n",
       "      <td>2.32</td>\n",
       "      <td>0.72</td>\n",
       "      <td>3.04</td>\n",
       "    </tr>\n",
       "    <tr>\n",
       "      <th>3</th>\n",
       "      <td>1.54</td>\n",
       "      <td>2.14</td>\n",
       "      <td>0.80</td>\n",
       "      <td>2.94</td>\n",
       "    </tr>\n",
       "    <tr>\n",
       "      <th>4</th>\n",
       "      <td>1.23</td>\n",
       "      <td>1.90</td>\n",
       "      <td>0.87</td>\n",
       "      <td>2.77</td>\n",
       "    </tr>\n",
       "    <tr>\n",
       "      <th>5</th>\n",
       "      <td>0.87</td>\n",
       "      <td>1.68</td>\n",
       "      <td>0.95</td>\n",
       "      <td>2.63</td>\n",
       "    </tr>\n",
       "    <tr>\n",
       "      <th>6</th>\n",
       "      <td>0.48</td>\n",
       "      <td>1.44</td>\n",
       "      <td>1.03</td>\n",
       "      <td>2.48</td>\n",
       "    </tr>\n",
       "    <tr>\n",
       "      <th>7</th>\n",
       "      <td>0.15</td>\n",
       "      <td>1.30</td>\n",
       "      <td>1.17</td>\n",
       "      <td>2.47</td>\n",
       "    </tr>\n",
       "  </tbody>\n",
       "</table>\n",
       "</div>"
      ],
      "text/plain": [
       "    Sup    HG    AG    TG\n",
       "0  2.67  2.94  0.61  3.55\n",
       "1  2.18  2.52  0.66  3.18\n",
       "2  1.83  2.32  0.72  3.04\n",
       "3  1.54  2.14  0.80  2.94\n",
       "4  1.23  1.90  0.87  2.77\n",
       "5  0.87  1.68  0.95  2.63\n",
       "6  0.48  1.44  1.03  2.48\n",
       "7  0.15  1.30  1.17  2.47"
      ]
     },
     "execution_count": 18,
     "metadata": {},
     "output_type": "execute_result"
    }
   ],
   "source": [
    "# new df with the above outputs\n",
    "data = [[a1,b1,c1,d1],[a2,b2,c2,d2],[a3,b3,c3,d3],[a4,b4,c4,d4],[a5,b5,c5,d5],[a6,b6,c6,d6],[a7,b7,c7,d7],[a8,b8,c8,d8]]\n",
    "dfcomb = pd.DataFrame(data, columns=['Sup','HG','AG','TG'])\n",
    "dfcomb"
   ]
  },
  {
   "cell_type": "markdown",
   "id": "d3048228-bd54-4c30-ab36-a5aad807333d",
   "metadata": {},
   "source": [
    "#### Lets visualize how Total Goals relates to Match Supremacy"
   ]
  },
  {
   "cell_type": "code",
   "execution_count": 19,
   "id": "3130bf39-9a6a-401e-85fe-90561db4282f",
   "metadata": {
    "tags": []
   },
   "outputs": [
    {
     "data": {
      "text/plain": [
       "<AxesSubplot:xlabel='Sup', ylabel='TG'>"
      ]
     },
     "execution_count": 19,
     "metadata": {},
     "output_type": "execute_result"
    },
    {
     "data": {
      "image/png": "[encoded data removed]",
      "text/plain": [
       "<Figure size 640x480 with 1 Axes>"
      ]
     },
     "metadata": {},
     "output_type": "display_data"
    }
   ],
   "source": [
    "sns.lineplot(data = dfcomb,x='Sup',y='TG')"
   ]
  },
  {
   "cell_type": "markdown",
   "id": "1d823e92-c285-4143-ae0e-1de4ea5b9647",
   "metadata": {},
   "source": [
    "#### Lets visualize how Home Total Goals relates to Match Supremacy"
   ]
  },
  {
   "cell_type": "code",
   "execution_count": 20,
   "id": "82e444ce-c311-44f3-be44-4c8f264d6d77",
   "metadata": {
    "tags": []
   },
   "outputs": [
    {
     "data": {
      "text/plain": [
       "<AxesSubplot:xlabel='Sup', ylabel='HG'>"
      ]
     },
     "execution_count": 20,
     "metadata": {},
     "output_type": "execute_result"
    },
    {
     "data": {
      "image/png": "[encoded data removed]",
      "text/plain": [
       "<Figure size 640x480 with 1 Axes>"
      ]
     },
     "metadata": {},
     "output_type": "display_data"
    }
   ],
   "source": [
    "sns.lineplot(data = dfcomb,x='Sup',y='HG')\n"
   ]
  },
  {
   "cell_type": "markdown",
   "id": "4ff76bb0-3870-465e-b135-1082be60943e",
   "metadata": {},
   "source": [
    "#### Lets visualize how Away Total Goals relates to Match Supremacy"
   ]
  },
  {
   "cell_type": "code",
   "execution_count": 21,
   "id": "ff7e0129-8f47-4dda-b759-25b81e838170",
   "metadata": {
    "tags": []
   },
   "outputs": [
    {
     "data": {
      "text/plain": [
       "<AxesSubplot:xlabel='Sup', ylabel='AG'>"
      ]
     },
     "execution_count": 21,
     "metadata": {},
     "output_type": "execute_result"
    },
    {
     "data": {
      "image/png": "[encoded data removed]",
      "text/plain": [
       "<Figure size 640x480 with 1 Axes>"
      ]
     },
     "metadata": {},
     "output_type": "display_data"
    }
   ],
   "source": [
    "sns.lineplot(data = dfcomb,x='Sup',y='AG')"
   ]
  },
  {
   "cell_type": "markdown",
   "id": "a9130305-3431-4465-baf5-7898488e9d37",
   "metadata": {},
   "source": [
    "#### Lets do similar visualizations but this time with data points and the linear regression trend formulae"
   ]
  },
  {
   "cell_type": "code",
   "execution_count": 22,
   "id": "1b026b6d-c308-4452-952e-65748ad09587",
   "metadata": {},
   "outputs": [
    {
     "data": {
      "image/png": "[encoded data removed]",
      "text/plain": [
       "<Figure size 640x480 with 1 Axes>"
      ]
     },
     "metadata": {},
     "output_type": "display_data"
    }
   ],
   "source": [
    "from scipy import stats\n",
    "\n",
    "# get coeffs of linear fit\n",
    "slope, intercept, r_value, p_value, std_err = stats.linregress(dfcomb['Sup'],dfcomb['TG'])\n",
    "\n",
    "# use line_kws to set line label for legend\n",
    "ax = sns.regplot(x=\"Sup\", y=\"TG\", data=dfcomb, color='b', \n",
    " line_kws={'label':\"y={0:.1f}x+{1:.1f}\".format(slope,intercept)})\n",
    "\n",
    "# plot legend\n",
    "ax.legend()\n",
    "\n",
    "plt.show()"
   ]
  },
  {
   "cell_type": "code",
   "execution_count": 23,
   "id": "eb58df7f-1cdb-46fc-aae2-8ad358d6e8eb",
   "metadata": {},
   "outputs": [
    {
     "data": {
      "image/png": "[encoded data removed]",
      "text/plain": [
       "<Figure size 640x480 with 1 Axes>"
      ]
     },
     "metadata": {},
     "output_type": "display_data"
    }
   ],
   "source": [
    "slope, intercept, r_value, p_value, std_err = stats.linregress(dfcomb['Sup'],dfcomb['HG'])\n",
    "\n",
    "# use line_kws to set line label for legend\n",
    "ax = sns.regplot(x=\"Sup\", y=\"HG\", data=dfcomb, color='r', \n",
    " line_kws={'label':\"y={0:.1f}x+{1:.1f}\".format(slope,intercept)})\n",
    "\n",
    "# plot legend\n",
    "ax.legend()\n",
    "\n",
    "plt.show()"
   ]
  },
  {
   "cell_type": "code",
   "execution_count": 24,
   "id": "0b073ce2-683e-48b3-93b1-64a2019d9697",
   "metadata": {},
   "outputs": [
    {
     "data": {
      "image/png": "[encoded data removed]",
      "text/plain": [
       "<Figure size 640x480 with 1 Axes>"
      ]
     },
     "metadata": {},
     "output_type": "display_data"
    }
   ],
   "source": [
    "slope, intercept, r_value, p_value, std_err = stats.linregress(dfcomb['Sup'],dfcomb['AG'])\n",
    "\n",
    "# use line_kws to set line label for legend\n",
    "ax = sns.regplot(x=\"Sup\", y=\"AG\", data=dfcomb, color='g', \n",
    " line_kws={'label':\"y={0:.1f}x+{1:.1f}\".format(slope,intercept)})\n",
    "\n",
    "# plot legend\n",
    "ax.legend()\n",
    "\n",
    "plt.show()"
   ]
  },
  {
   "cell_type": "markdown",
   "id": "70a32352-e2b6-4895-98a2-68e585b5d323",
   "metadata": {},
   "source": [
    "#### Lets compare how the goals are split as a percentage of the total goals"
   ]
  },
  {
   "cell_type": "code",
   "execution_count": 25,
   "id": "67ec103e-9fcd-4b57-9722-22a48406fdd9",
   "metadata": {},
   "outputs": [
    {
     "data": {
      "text/html": [
       "<div>\n",
       "<style scoped>\n",
       "    .dataframe tbody tr th:only-of-type {\n",
       "        vertical-align: middle;\n",
       "    }\n",
       "\n",
       "    .dataframe tbody tr th {\n",
       "        vertical-align: top;\n",
       "    }\n",
       "\n",
       "    .dataframe thead th {\n",
       "        text-align: right;\n",
       "    }\n",
       "</style>\n",
       "<table border=\"1\" class=\"dataframe\">\n",
       "  <thead>\n",
       "    <tr style=\"text-align: right;\">\n",
       "      <th></th>\n",
       "      <th>Sup</th>\n",
       "      <th>HG</th>\n",
       "      <th>AG</th>\n",
       "      <th>TG</th>\n",
       "      <th>% Fav Gls</th>\n",
       "    </tr>\n",
       "  </thead>\n",
       "  <tbody>\n",
       "    <tr>\n",
       "      <th>0</th>\n",
       "      <td>2.67</td>\n",
       "      <td>2.94</td>\n",
       "      <td>0.61</td>\n",
       "      <td>3.55</td>\n",
       "      <td>0.83</td>\n",
       "    </tr>\n",
       "    <tr>\n",
       "      <th>1</th>\n",
       "      <td>2.18</td>\n",
       "      <td>2.52</td>\n",
       "      <td>0.66</td>\n",
       "      <td>3.18</td>\n",
       "      <td>0.79</td>\n",
       "    </tr>\n",
       "    <tr>\n",
       "      <th>2</th>\n",
       "      <td>1.83</td>\n",
       "      <td>2.32</td>\n",
       "      <td>0.72</td>\n",
       "      <td>3.04</td>\n",
       "      <td>0.76</td>\n",
       "    </tr>\n",
       "    <tr>\n",
       "      <th>3</th>\n",
       "      <td>1.54</td>\n",
       "      <td>2.14</td>\n",
       "      <td>0.80</td>\n",
       "      <td>2.94</td>\n",
       "      <td>0.73</td>\n",
       "    </tr>\n",
       "    <tr>\n",
       "      <th>4</th>\n",
       "      <td>1.23</td>\n",
       "      <td>1.90</td>\n",
       "      <td>0.87</td>\n",
       "      <td>2.77</td>\n",
       "      <td>0.69</td>\n",
       "    </tr>\n",
       "    <tr>\n",
       "      <th>5</th>\n",
       "      <td>0.87</td>\n",
       "      <td>1.68</td>\n",
       "      <td>0.95</td>\n",
       "      <td>2.63</td>\n",
       "      <td>0.64</td>\n",
       "    </tr>\n",
       "    <tr>\n",
       "      <th>6</th>\n",
       "      <td>0.48</td>\n",
       "      <td>1.44</td>\n",
       "      <td>1.03</td>\n",
       "      <td>2.48</td>\n",
       "      <td>0.58</td>\n",
       "    </tr>\n",
       "    <tr>\n",
       "      <th>7</th>\n",
       "      <td>0.15</td>\n",
       "      <td>1.30</td>\n",
       "      <td>1.17</td>\n",
       "      <td>2.47</td>\n",
       "      <td>0.53</td>\n",
       "    </tr>\n",
       "  </tbody>\n",
       "</table>\n",
       "</div>"
      ],
      "text/plain": [
       "    Sup    HG    AG    TG  % Fav Gls\n",
       "0  2.67  2.94  0.61  3.55       0.83\n",
       "1  2.18  2.52  0.66  3.18       0.79\n",
       "2  1.83  2.32  0.72  3.04       0.76\n",
       "3  1.54  2.14  0.80  2.94       0.73\n",
       "4  1.23  1.90  0.87  2.77       0.69\n",
       "5  0.87  1.68  0.95  2.63       0.64\n",
       "6  0.48  1.44  1.03  2.48       0.58\n",
       "7  0.15  1.30  1.17  2.47       0.53"
      ]
     },
     "execution_count": 25,
     "metadata": {},
     "output_type": "execute_result"
    }
   ],
   "source": [
    "#lets add another column with the % goals split between home and away given sup\n",
    "dfcomb['% Fav Gls'] = round(dfcomb['HG'] / dfcomb['TG'],2)\n",
    "dfcomb"
   ]
  },
  {
   "cell_type": "markdown",
   "id": "66dab944-40d0-46f3-a693-5d8f53f99119",
   "metadata": {},
   "source": [
    "#### Lets visulaize this % of Home favourite goals against supremacy"
   ]
  },
  {
   "cell_type": "code",
   "execution_count": 26,
   "id": "8826d89b-0180-44fc-be70-8623f51adfda",
   "metadata": {
    "tags": []
   },
   "outputs": [
    {
     "data": {
      "image/png": "[encoded data removed]",
      "text/plain": [
       "<Figure size 640x480 with 1 Axes>"
      ]
     },
     "metadata": {},
     "output_type": "display_data"
    }
   ],
   "source": [
    "# Now lets plot the % split vs Sup\n",
    "slope, intercept, r_value, p_value, std_err = stats.linregress(dfcomb['Sup'],dfcomb['% Fav Gls'])\n",
    "\n",
    "# use line_kws to set line label for legend\n",
    "ax = sns.regplot(x=\"Sup\", y=\"% Fav Gls\", data=dfcomb, color='y', \n",
    " line_kws={'label':\"y={0:.1f}x+{1:.1f}\".format(slope,intercept)})\n",
    "\n",
    "# plot legend\n",
    "ax.legend()\n",
    "\n",
    "plt.show()"
   ]
  },
  {
   "cell_type": "markdown",
   "id": "ba2d5605-f274-4ed7-a423-258d5061e826",
   "metadata": {},
   "source": [
    "#### Now we will combine all favourites (home and away) into a single data frame for full favourite / supremacy analysis"
   ]
  },
  {
   "cell_type": "code",
   "execution_count": 27,
   "id": "29813ba2-ff65-402e-af54-8b28a0324eb4",
   "metadata": {
    "tags": []
   },
   "outputs": [
    {
     "name": "stderr",
     "output_type": "stream",
     "text": [
      "C:\\Users\\MikeD\\AppData\\Local\\Temp\\ipykernel_2888\\419972516.py:3: SettingWithCopyWarning: \n",
      "A value is trying to be set on a copy of a slice from a DataFrame\n",
      "\n",
      "See the caveats in the documentation: https://pandas.pydata.org/pandas-docs/stable/user_guide/indexing.html#returning-a-view-versus-a-copy\n",
      "  df_dogs.rename(columns={'HG_Exp':'Dog_Exp','AG_Exp':'Fav_Exp', 'FTHG':'Dog_Gls','FTAG':'Fav_Gls'},inplace=True)\n"
     ]
    },
    {
     "data": {
      "text/html": [
       "<div>\n",
       "<style scoped>\n",
       "    .dataframe tbody tr th:only-of-type {\n",
       "        vertical-align: middle;\n",
       "    }\n",
       "\n",
       "    .dataframe tbody tr th {\n",
       "        vertical-align: top;\n",
       "    }\n",
       "\n",
       "    .dataframe thead th {\n",
       "        text-align: right;\n",
       "    }\n",
       "</style>\n",
       "<table border=\"1\" class=\"dataframe\">\n",
       "  <thead>\n",
       "    <tr style=\"text-align: right;\">\n",
       "      <th></th>\n",
       "      <th>Dog_Exp</th>\n",
       "      <th>Fav_Exp</th>\n",
       "      <th>Sup Exp</th>\n",
       "      <th>Exp</th>\n",
       "      <th>Dog_Gls</th>\n",
       "      <th>Fav_Gls</th>\n",
       "      <th>TG</th>\n",
       "    </tr>\n",
       "  </thead>\n",
       "  <tbody>\n",
       "    <tr>\n",
       "      <th>2</th>\n",
       "      <td>0.94</td>\n",
       "      <td>1.97</td>\n",
       "      <td>-1.03</td>\n",
       "      <td>2.94</td>\n",
       "      <td>1.0</td>\n",
       "      <td>3.0</td>\n",
       "      <td>4.0</td>\n",
       "    </tr>\n",
       "    <tr>\n",
       "      <th>3</th>\n",
       "      <td>0.93</td>\n",
       "      <td>2.25</td>\n",
       "      <td>-1.32</td>\n",
       "      <td>3.14</td>\n",
       "      <td>1.0</td>\n",
       "      <td>2.0</td>\n",
       "      <td>3.0</td>\n",
       "    </tr>\n",
       "    <tr>\n",
       "      <th>5</th>\n",
       "      <td>0.68</td>\n",
       "      <td>2.16</td>\n",
       "      <td>-1.48</td>\n",
       "      <td>2.84</td>\n",
       "      <td>2.0</td>\n",
       "      <td>2.0</td>\n",
       "      <td>4.0</td>\n",
       "    </tr>\n",
       "    <tr>\n",
       "      <th>9</th>\n",
       "      <td>1.05</td>\n",
       "      <td>1.74</td>\n",
       "      <td>-0.69</td>\n",
       "      <td>2.79</td>\n",
       "      <td>0.0</td>\n",
       "      <td>1.0</td>\n",
       "      <td>1.0</td>\n",
       "    </tr>\n",
       "    <tr>\n",
       "      <th>11</th>\n",
       "      <td>0.84</td>\n",
       "      <td>2.10</td>\n",
       "      <td>-1.26</td>\n",
       "      <td>2.94</td>\n",
       "      <td>1.0</td>\n",
       "      <td>3.0</td>\n",
       "      <td>4.0</td>\n",
       "    </tr>\n",
       "    <tr>\n",
       "      <th>...</th>\n",
       "      <td>...</td>\n",
       "      <td>...</td>\n",
       "      <td>...</td>\n",
       "      <td>...</td>\n",
       "      <td>...</td>\n",
       "      <td>...</td>\n",
       "      <td>...</td>\n",
       "    </tr>\n",
       "    <tr>\n",
       "      <th>143638</th>\n",
       "      <td>1.18</td>\n",
       "      <td>1.38</td>\n",
       "      <td>-0.20</td>\n",
       "      <td>2.56</td>\n",
       "      <td>1.0</td>\n",
       "      <td>1.0</td>\n",
       "      <td>2.0</td>\n",
       "    </tr>\n",
       "    <tr>\n",
       "      <th>143640</th>\n",
       "      <td>1.25</td>\n",
       "      <td>1.31</td>\n",
       "      <td>-0.06</td>\n",
       "      <td>2.56</td>\n",
       "      <td>2.0</td>\n",
       "      <td>0.0</td>\n",
       "      <td>2.0</td>\n",
       "    </tr>\n",
       "    <tr>\n",
       "      <th>143644</th>\n",
       "      <td>1.09</td>\n",
       "      <td>1.60</td>\n",
       "      <td>-0.51</td>\n",
       "      <td>2.66</td>\n",
       "      <td>0.0</td>\n",
       "      <td>2.0</td>\n",
       "      <td>2.0</td>\n",
       "    </tr>\n",
       "    <tr>\n",
       "      <th>143652</th>\n",
       "      <td>1.15</td>\n",
       "      <td>1.38</td>\n",
       "      <td>-0.23</td>\n",
       "      <td>2.53</td>\n",
       "      <td>2.0</td>\n",
       "      <td>3.0</td>\n",
       "      <td>5.0</td>\n",
       "    </tr>\n",
       "    <tr>\n",
       "      <th>143654</th>\n",
       "      <td>1.16</td>\n",
       "      <td>1.37</td>\n",
       "      <td>-0.21</td>\n",
       "      <td>2.53</td>\n",
       "      <td>1.0</td>\n",
       "      <td>2.0</td>\n",
       "      <td>3.0</td>\n",
       "    </tr>\n",
       "  </tbody>\n",
       "</table>\n",
       "<p>30305 rows × 7 columns</p>\n",
       "</div>"
      ],
      "text/plain": [
       "        Dog_Exp  Fav_Exp  Sup Exp   Exp  Dog_Gls  Fav_Gls   TG\n",
       "2          0.94     1.97    -1.03  2.94      1.0      3.0  4.0\n",
       "3          0.93     2.25    -1.32  3.14      1.0      2.0  3.0\n",
       "5          0.68     2.16    -1.48  2.84      2.0      2.0  4.0\n",
       "9          1.05     1.74    -0.69  2.79      0.0      1.0  1.0\n",
       "11         0.84     2.10    -1.26  2.94      1.0      3.0  4.0\n",
       "...         ...      ...      ...   ...      ...      ...  ...\n",
       "143638     1.18     1.38    -0.20  2.56      1.0      1.0  2.0\n",
       "143640     1.25     1.31    -0.06  2.56      2.0      0.0  2.0\n",
       "143644     1.09     1.60    -0.51  2.66      0.0      2.0  2.0\n",
       "143652     1.15     1.38    -0.23  2.53      2.0      3.0  5.0\n",
       "143654     1.16     1.37    -0.21  2.53      1.0      2.0  3.0\n",
       "\n",
       "[30305 rows x 7 columns]"
      ]
     },
     "execution_count": 27,
     "metadata": {},
     "output_type": "execute_result"
    }
   ],
   "source": [
    "# Merge home and away favs into one column\n",
    "df_dogs = df[df['Sup Exp'] < 0]\n",
    "df_dogs.rename(columns={'HG_Exp':'Dog_Exp','AG_Exp':'Fav_Exp', 'FTHG':'Dog_Gls','FTAG':'Fav_Gls'},inplace=True)\n",
    "df_dogs = df_dogs[['Dog_Exp','Fav_Exp','Sup Exp','Exp','Dog_Gls', 'Fav_Gls','TG']]\n",
    "df_dogs"
   ]
  },
  {
   "cell_type": "markdown",
   "id": "3a8e070e-d42f-465b-885f-1110a4bb34b6",
   "metadata": {},
   "source": [
    "#### Rename and isolate required columns"
   ]
  },
  {
   "cell_type": "code",
   "execution_count": 28,
   "id": "aa909193-ca84-42d7-8f4c-04c5ff5f74da",
   "metadata": {
    "tags": []
   },
   "outputs": [
    {
     "name": "stderr",
     "output_type": "stream",
     "text": [
      "C:\\Users\\MikeD\\AppData\\Local\\Temp\\ipykernel_2888\\3033433402.py:2: SettingWithCopyWarning: \n",
      "A value is trying to be set on a copy of a slice from a DataFrame\n",
      "\n",
      "See the caveats in the documentation: https://pandas.pydata.org/pandas-docs/stable/user_guide/indexing.html#returning-a-view-versus-a-copy\n",
      "  df_favs.rename(columns={'HG_Exp':'Dog_Exp','AG_Exp':'Fav_Exp','FTAG':'Dog_Gls','FTHG':'Fav_Gls'},inplace=True)\n"
     ]
    },
    {
     "data": {
      "text/html": [
       "<div>\n",
       "<style scoped>\n",
       "    .dataframe tbody tr th:only-of-type {\n",
       "        vertical-align: middle;\n",
       "    }\n",
       "\n",
       "    .dataframe tbody tr th {\n",
       "        vertical-align: top;\n",
       "    }\n",
       "\n",
       "    .dataframe thead th {\n",
       "        text-align: right;\n",
       "    }\n",
       "</style>\n",
       "<table border=\"1\" class=\"dataframe\">\n",
       "  <thead>\n",
       "    <tr style=\"text-align: right;\">\n",
       "      <th></th>\n",
       "      <th>Dog_Exp</th>\n",
       "      <th>Fav_Exp</th>\n",
       "      <th>Sup Exp</th>\n",
       "      <th>Exp</th>\n",
       "      <th>TG</th>\n",
       "      <th>Dog_Gls</th>\n",
       "      <th>Fav_Gls</th>\n",
       "    </tr>\n",
       "  </thead>\n",
       "  <tbody>\n",
       "    <tr>\n",
       "      <th>0</th>\n",
       "      <td>2.44</td>\n",
       "      <td>0.62</td>\n",
       "      <td>1.82</td>\n",
       "      <td>3.03</td>\n",
       "      <td>4.0</td>\n",
       "      <td>0.0</td>\n",
       "      <td>4.0</td>\n",
       "    </tr>\n",
       "    <tr>\n",
       "      <th>1</th>\n",
       "      <td>1.41</td>\n",
       "      <td>1.38</td>\n",
       "      <td>0.03</td>\n",
       "      <td>2.76</td>\n",
       "      <td>5.0</td>\n",
       "      <td>3.0</td>\n",
       "      <td>2.0</td>\n",
       "    </tr>\n",
       "    <tr>\n",
       "      <th>4</th>\n",
       "      <td>1.95</td>\n",
       "      <td>0.86</td>\n",
       "      <td>1.09</td>\n",
       "      <td>2.79</td>\n",
       "      <td>5.0</td>\n",
       "      <td>2.0</td>\n",
       "      <td>3.0</td>\n",
       "    </tr>\n",
       "    <tr>\n",
       "      <th>6</th>\n",
       "      <td>2.86</td>\n",
       "      <td>0.52</td>\n",
       "      <td>2.34</td>\n",
       "      <td>3.38</td>\n",
       "      <td>2.0</td>\n",
       "      <td>0.0</td>\n",
       "      <td>2.0</td>\n",
       "    </tr>\n",
       "    <tr>\n",
       "      <th>7</th>\n",
       "      <td>1.99</td>\n",
       "      <td>1.00</td>\n",
       "      <td>0.99</td>\n",
       "      <td>2.99</td>\n",
       "      <td>4.0</td>\n",
       "      <td>1.0</td>\n",
       "      <td>3.0</td>\n",
       "    </tr>\n",
       "    <tr>\n",
       "      <th>...</th>\n",
       "      <td>...</td>\n",
       "      <td>...</td>\n",
       "      <td>...</td>\n",
       "      <td>...</td>\n",
       "      <td>...</td>\n",
       "      <td>...</td>\n",
       "      <td>...</td>\n",
       "    </tr>\n",
       "    <tr>\n",
       "      <th>143650</th>\n",
       "      <td>1.33</td>\n",
       "      <td>1.23</td>\n",
       "      <td>0.10</td>\n",
       "      <td>2.56</td>\n",
       "      <td>5.0</td>\n",
       "      <td>5.0</td>\n",
       "      <td>0.0</td>\n",
       "    </tr>\n",
       "    <tr>\n",
       "      <th>143651</th>\n",
       "      <td>1.44</td>\n",
       "      <td>1.09</td>\n",
       "      <td>0.35</td>\n",
       "      <td>2.53</td>\n",
       "      <td>4.0</td>\n",
       "      <td>2.0</td>\n",
       "      <td>2.0</td>\n",
       "    </tr>\n",
       "    <tr>\n",
       "      <th>143653</th>\n",
       "      <td>1.60</td>\n",
       "      <td>0.96</td>\n",
       "      <td>0.64</td>\n",
       "      <td>2.56</td>\n",
       "      <td>2.0</td>\n",
       "      <td>2.0</td>\n",
       "      <td>0.0</td>\n",
       "    </tr>\n",
       "    <tr>\n",
       "      <th>143655</th>\n",
       "      <td>1.43</td>\n",
       "      <td>1.17</td>\n",
       "      <td>0.26</td>\n",
       "      <td>2.62</td>\n",
       "      <td>0.0</td>\n",
       "      <td>0.0</td>\n",
       "      <td>0.0</td>\n",
       "    </tr>\n",
       "    <tr>\n",
       "      <th>143656</th>\n",
       "      <td>1.68</td>\n",
       "      <td>0.91</td>\n",
       "      <td>0.77</td>\n",
       "      <td>2.56</td>\n",
       "      <td>0.0</td>\n",
       "      <td>0.0</td>\n",
       "      <td>0.0</td>\n",
       "    </tr>\n",
       "  </tbody>\n",
       "</table>\n",
       "<p>90080 rows × 7 columns</p>\n",
       "</div>"
      ],
      "text/plain": [
       "        Dog_Exp  Fav_Exp  Sup Exp   Exp   TG  Dog_Gls  Fav_Gls\n",
       "0          2.44     0.62     1.82  3.03  4.0      0.0      4.0\n",
       "1          1.41     1.38     0.03  2.76  5.0      3.0      2.0\n",
       "4          1.95     0.86     1.09  2.79  5.0      2.0      3.0\n",
       "6          2.86     0.52     2.34  3.38  2.0      0.0      2.0\n",
       "7          1.99     1.00     0.99  2.99  4.0      1.0      3.0\n",
       "...         ...      ...      ...   ...  ...      ...      ...\n",
       "143650     1.33     1.23     0.10  2.56  5.0      5.0      0.0\n",
       "143651     1.44     1.09     0.35  2.53  4.0      2.0      2.0\n",
       "143653     1.60     0.96     0.64  2.56  2.0      2.0      0.0\n",
       "143655     1.43     1.17     0.26  2.62  0.0      0.0      0.0\n",
       "143656     1.68     0.91     0.77  2.56  0.0      0.0      0.0\n",
       "\n",
       "[90080 rows x 7 columns]"
      ]
     },
     "execution_count": 28,
     "metadata": {},
     "output_type": "execute_result"
    }
   ],
   "source": [
    "df_favs = df[df['Sup Exp'] > 0]\n",
    "df_favs.rename(columns={'HG_Exp':'Dog_Exp','AG_Exp':'Fav_Exp','FTAG':'Dog_Gls','FTHG':'Fav_Gls'},inplace=True)\n",
    "df_favs = df_favs[['Dog_Exp','Fav_Exp','Sup Exp','Exp','TG', 'Dog_Gls','Fav_Gls']]\n",
    "df_favs"
   ]
  },
  {
   "cell_type": "markdown",
   "id": "7d57a87a-6357-4238-b86d-63c661c2559b",
   "metadata": {},
   "source": [
    "#### Merge both 'Home' and 'Away' DF's"
   ]
  },
  {
   "cell_type": "code",
   "execution_count": 29,
   "id": "822653ee-5d8e-494b-8dab-6433336fb0e8",
   "metadata": {
    "tags": []
   },
   "outputs": [
    {
     "data": {
      "text/html": [
       "<div>\n",
       "<style scoped>\n",
       "    .dataframe tbody tr th:only-of-type {\n",
       "        vertical-align: middle;\n",
       "    }\n",
       "\n",
       "    .dataframe tbody tr th {\n",
       "        vertical-align: top;\n",
       "    }\n",
       "\n",
       "    .dataframe thead th {\n",
       "        text-align: right;\n",
       "    }\n",
       "</style>\n",
       "<table border=\"1\" class=\"dataframe\">\n",
       "  <thead>\n",
       "    <tr style=\"text-align: right;\">\n",
       "      <th></th>\n",
       "      <th>Dog_Exp</th>\n",
       "      <th>Fav_Exp</th>\n",
       "      <th>Sup Exp</th>\n",
       "      <th>Exp</th>\n",
       "      <th>TG</th>\n",
       "      <th>Dog_Gls</th>\n",
       "      <th>Fav_Gls</th>\n",
       "    </tr>\n",
       "  </thead>\n",
       "  <tbody>\n",
       "    <tr>\n",
       "      <th>0</th>\n",
       "      <td>2.44</td>\n",
       "      <td>0.62</td>\n",
       "      <td>1.82</td>\n",
       "      <td>3.03</td>\n",
       "      <td>4.0</td>\n",
       "      <td>0.0</td>\n",
       "      <td>4.0</td>\n",
       "    </tr>\n",
       "    <tr>\n",
       "      <th>1</th>\n",
       "      <td>1.41</td>\n",
       "      <td>1.38</td>\n",
       "      <td>0.03</td>\n",
       "      <td>2.76</td>\n",
       "      <td>5.0</td>\n",
       "      <td>3.0</td>\n",
       "      <td>2.0</td>\n",
       "    </tr>\n",
       "    <tr>\n",
       "      <th>4</th>\n",
       "      <td>1.95</td>\n",
       "      <td>0.86</td>\n",
       "      <td>1.09</td>\n",
       "      <td>2.79</td>\n",
       "      <td>5.0</td>\n",
       "      <td>2.0</td>\n",
       "      <td>3.0</td>\n",
       "    </tr>\n",
       "    <tr>\n",
       "      <th>6</th>\n",
       "      <td>2.86</td>\n",
       "      <td>0.52</td>\n",
       "      <td>2.34</td>\n",
       "      <td>3.38</td>\n",
       "      <td>2.0</td>\n",
       "      <td>0.0</td>\n",
       "      <td>2.0</td>\n",
       "    </tr>\n",
       "    <tr>\n",
       "      <th>7</th>\n",
       "      <td>1.99</td>\n",
       "      <td>1.00</td>\n",
       "      <td>0.99</td>\n",
       "      <td>2.99</td>\n",
       "      <td>4.0</td>\n",
       "      <td>1.0</td>\n",
       "      <td>3.0</td>\n",
       "    </tr>\n",
       "    <tr>\n",
       "      <th>...</th>\n",
       "      <td>...</td>\n",
       "      <td>...</td>\n",
       "      <td>...</td>\n",
       "      <td>...</td>\n",
       "      <td>...</td>\n",
       "      <td>...</td>\n",
       "      <td>...</td>\n",
       "    </tr>\n",
       "    <tr>\n",
       "      <th>143638</th>\n",
       "      <td>1.18</td>\n",
       "      <td>1.38</td>\n",
       "      <td>-0.20</td>\n",
       "      <td>2.56</td>\n",
       "      <td>2.0</td>\n",
       "      <td>1.0</td>\n",
       "      <td>1.0</td>\n",
       "    </tr>\n",
       "    <tr>\n",
       "      <th>143640</th>\n",
       "      <td>1.25</td>\n",
       "      <td>1.31</td>\n",
       "      <td>-0.06</td>\n",
       "      <td>2.56</td>\n",
       "      <td>2.0</td>\n",
       "      <td>2.0</td>\n",
       "      <td>0.0</td>\n",
       "    </tr>\n",
       "    <tr>\n",
       "      <th>143644</th>\n",
       "      <td>1.09</td>\n",
       "      <td>1.60</td>\n",
       "      <td>-0.51</td>\n",
       "      <td>2.66</td>\n",
       "      <td>2.0</td>\n",
       "      <td>0.0</td>\n",
       "      <td>2.0</td>\n",
       "    </tr>\n",
       "    <tr>\n",
       "      <th>143652</th>\n",
       "      <td>1.15</td>\n",
       "      <td>1.38</td>\n",
       "      <td>-0.23</td>\n",
       "      <td>2.53</td>\n",
       "      <td>5.0</td>\n",
       "      <td>2.0</td>\n",
       "      <td>3.0</td>\n",
       "    </tr>\n",
       "    <tr>\n",
       "      <th>143654</th>\n",
       "      <td>1.16</td>\n",
       "      <td>1.37</td>\n",
       "      <td>-0.21</td>\n",
       "      <td>2.53</td>\n",
       "      <td>3.0</td>\n",
       "      <td>1.0</td>\n",
       "      <td>2.0</td>\n",
       "    </tr>\n",
       "  </tbody>\n",
       "</table>\n",
       "<p>120385 rows × 7 columns</p>\n",
       "</div>"
      ],
      "text/plain": [
       "        Dog_Exp  Fav_Exp  Sup Exp   Exp   TG  Dog_Gls  Fav_Gls\n",
       "0          2.44     0.62     1.82  3.03  4.0      0.0      4.0\n",
       "1          1.41     1.38     0.03  2.76  5.0      3.0      2.0\n",
       "4          1.95     0.86     1.09  2.79  5.0      2.0      3.0\n",
       "6          2.86     0.52     2.34  3.38  2.0      0.0      2.0\n",
       "7          1.99     1.00     0.99  2.99  4.0      1.0      3.0\n",
       "...         ...      ...      ...   ...  ...      ...      ...\n",
       "143638     1.18     1.38    -0.20  2.56  2.0      1.0      1.0\n",
       "143640     1.25     1.31    -0.06  2.56  2.0      2.0      0.0\n",
       "143644     1.09     1.60    -0.51  2.66  2.0      0.0      2.0\n",
       "143652     1.15     1.38    -0.23  2.53  5.0      2.0      3.0\n",
       "143654     1.16     1.37    -0.21  2.53  3.0      1.0      2.0\n",
       "\n",
       "[120385 rows x 7 columns]"
      ]
     },
     "execution_count": 29,
     "metadata": {},
     "output_type": "execute_result"
    }
   ],
   "source": [
    "#concat both df's\n",
    "df = pd.concat([df_favs,df_dogs])\n",
    "df"
   ]
  },
  {
   "cell_type": "markdown",
   "id": "c7f48327-9258-460e-828e-83b2d7457ffb",
   "metadata": {},
   "source": [
    "#### We now bucket the data into 14 different supremacy groups and calculate means for 'Supremacy', 'Fav Goals scored' and 'Total Goals'"
   ]
  },
  {
   "cell_type": "code",
   "execution_count": 30,
   "id": "27bc398c-04fa-4132-bd2b-18a3375c8bf8",
   "metadata": {
    "tags": []
   },
   "outputs": [],
   "source": [
    "# bucket the data\n",
    "df_1 = df[(df['Sup Exp']>=2.8)]\n",
    "df_2 = df[(df['Sup Exp']>=2.5) & (df['Sup Exp']<2.8)]\n",
    "df_3 = df[(df['Sup Exp']>=2.3) & (df['Sup Exp']<2.5)]\n",
    "df_4 = df[(df['Sup Exp']>=2.1) & (df['Sup Exp']<2.3)]\n",
    "df_5 = df[(df['Sup Exp']>=1.9) & (df['Sup Exp']<2.1)]\n",
    "df_6 = df[(df['Sup Exp']>=1.7) & (df['Sup Exp']<1.9)]\n",
    "df_7 = df[(df['Sup Exp']>=1.5) & (df['Sup Exp']<1.7)]\n",
    "df_8 = df[(df['Sup Exp']>=1.3) & (df['Sup Exp']<1.5)]\n",
    "df_9 = df[(df['Sup Exp']>=1.1) & (df['Sup Exp']<1.3)]\n",
    "df_10 = df[(df['Sup Exp']>=0.9) & (df['Sup Exp']<1.1)]\n",
    "df_11 = df[(df['Sup Exp']>=0.7) & (df['Sup Exp']<0.9)]\n",
    "df_12 = df[(df['Sup Exp']>=0.5) & (df['Sup Exp']<0.7)]\n",
    "df_13 = df[(df['Sup Exp']>=0.3) & (df['Sup Exp']<0.5)]\n",
    "df_14 = df[(df['Sup Exp']>=0.1) & (df['Sup Exp']<0.3)]  \n",
    "                                   \n",
    "a_1 = round(df_1['Sup Exp'].mean(),2)\n",
    "a_2 = round(df_1['Fav_Gls'].mean(),2)\n",
    "a_3 = round(df_1['TG'].mean(),2)\n",
    "\n",
    "b_1 = round(df_2['Sup Exp'].mean(),2)\n",
    "b_2 = round(df_2['Fav_Gls'].mean(),2)\n",
    "b_3 = round(df_2['TG'].mean(),2)\n",
    "\n",
    "c_1 = round(df_3['Sup Exp'].mean(),2)\n",
    "c_2 = round(df_3['Fav_Gls'].mean(),2)\n",
    "c_3 = round(df_3['TG'].mean(),2)\n",
    "\n",
    "d_1 = round(df_4['Sup Exp'].mean(),2)\n",
    "d_2 = round(df_4['Fav_Gls'].mean(),2)\n",
    "d_3 = round(df_4['TG'].mean(),2)\n",
    "\n",
    "e_1 = round(df_5['Sup Exp'].mean(),2)\n",
    "e_2 = round(df_5['Fav_Gls'].mean(),2)\n",
    "e_3 = round(df_5['TG'].mean(),2)\n",
    "\n",
    "f_1 = round(df_6['Sup Exp'].mean(),2)\n",
    "f_2 = round(df_6['Fav_Gls'].mean(),2)\n",
    "f_3 = round(df_6['TG'].mean(),2)\n",
    "\n",
    "g_1 = round(df_7['Sup Exp'].mean(),2)\n",
    "g_2 = round(df_7['Fav_Gls'].mean(),2)\n",
    "g_3 = round(df_7['TG'].mean(),2)\n",
    "\n",
    "h_1 = round(df_8['Sup Exp'].mean(),2)\n",
    "h_2 = round(df_8['Fav_Gls'].mean(),2)\n",
    "h_3 = round(df_8['TG'].mean(),2)\n",
    "\n",
    "i_1 = round(df_9['Sup Exp'].mean(),2)\n",
    "i_2 = round(df_9['Fav_Gls'].mean(),2)\n",
    "i_3 = round(df_9['TG'].mean(),2)\n",
    "\n",
    "j_1 = round(df_10['Sup Exp'].mean(),2)\n",
    "j_2 = round(df_10['Fav_Gls'].mean(),2)\n",
    "j_3 = round(df_10['TG'].mean(),2)\n",
    "\n",
    "k_1 = round(df_11['Sup Exp'].mean(),2)\n",
    "k_2 = round(df_11['Fav_Gls'].mean(),2)\n",
    "k_3 = round(df_11['TG'].mean(),2)\n",
    "\n",
    "l_1 = round(df_12['Sup Exp'].mean(),2)\n",
    "l_2 = round(df_12['Fav_Gls'].mean(),2)\n",
    "l_3 = round(df_12['TG'].mean(),2)\n",
    "\n",
    "m_1 = round(df_13['Sup Exp'].mean(),2)\n",
    "m_2 = round(df_13['Fav_Gls'].mean(),2)\n",
    "m_3 = round(df_13['TG'].mean(),2)\n",
    "\n",
    "n_1 = round(df_14['Sup Exp'].mean(),2)\n",
    "n_2 = round(df_14['Fav_Gls'].mean(),2)\n",
    "n_3 = round(df_14['TG'].mean(),2)\n"
   ]
  },
  {
   "cell_type": "markdown",
   "id": "f662ff7d-8370-48be-97b4-26a36dfacd82",
   "metadata": {},
   "source": [
    "#### Put these means into a new DF for regression analysis"
   ]
  },
  {
   "cell_type": "code",
   "execution_count": 31,
   "id": "c4200db0-704b-48e6-892d-fa0eef8e29e3",
   "metadata": {
    "tags": []
   },
   "outputs": [
    {
     "data": {
      "text/html": [
       "<div>\n",
       "<style scoped>\n",
       "    .dataframe tbody tr th:only-of-type {\n",
       "        vertical-align: middle;\n",
       "    }\n",
       "\n",
       "    .dataframe tbody tr th {\n",
       "        vertical-align: top;\n",
       "    }\n",
       "\n",
       "    .dataframe thead th {\n",
       "        text-align: right;\n",
       "    }\n",
       "</style>\n",
       "<table border=\"1\" class=\"dataframe\">\n",
       "  <thead>\n",
       "    <tr style=\"text-align: right;\">\n",
       "      <th></th>\n",
       "      <th>Sup</th>\n",
       "      <th>FavG</th>\n",
       "      <th>TG</th>\n",
       "    </tr>\n",
       "  </thead>\n",
       "  <tbody>\n",
       "    <tr>\n",
       "      <th>0</th>\n",
       "      <td>2.97</td>\n",
       "      <td>3.04</td>\n",
       "      <td>3.61</td>\n",
       "    </tr>\n",
       "    <tr>\n",
       "      <th>1</th>\n",
       "      <td>2.63</td>\n",
       "      <td>2.94</td>\n",
       "      <td>3.57</td>\n",
       "    </tr>\n",
       "    <tr>\n",
       "      <th>2</th>\n",
       "      <td>2.38</td>\n",
       "      <td>2.69</td>\n",
       "      <td>3.31</td>\n",
       "    </tr>\n",
       "    <tr>\n",
       "      <th>3</th>\n",
       "      <td>2.19</td>\n",
       "      <td>2.57</td>\n",
       "      <td>3.22</td>\n",
       "    </tr>\n",
       "    <tr>\n",
       "      <th>4</th>\n",
       "      <td>1.99</td>\n",
       "      <td>2.39</td>\n",
       "      <td>3.07</td>\n",
       "    </tr>\n",
       "    <tr>\n",
       "      <th>5</th>\n",
       "      <td>1.79</td>\n",
       "      <td>2.29</td>\n",
       "      <td>3.04</td>\n",
       "    </tr>\n",
       "    <tr>\n",
       "      <th>6</th>\n",
       "      <td>1.59</td>\n",
       "      <td>2.20</td>\n",
       "      <td>2.99</td>\n",
       "    </tr>\n",
       "    <tr>\n",
       "      <th>7</th>\n",
       "      <td>1.39</td>\n",
       "      <td>2.02</td>\n",
       "      <td>2.85</td>\n",
       "    </tr>\n",
       "    <tr>\n",
       "      <th>8</th>\n",
       "      <td>1.19</td>\n",
       "      <td>1.87</td>\n",
       "      <td>2.75</td>\n",
       "    </tr>\n",
       "    <tr>\n",
       "      <th>9</th>\n",
       "      <td>0.99</td>\n",
       "      <td>1.76</td>\n",
       "      <td>2.70</td>\n",
       "    </tr>\n",
       "    <tr>\n",
       "      <th>10</th>\n",
       "      <td>0.79</td>\n",
       "      <td>1.63</td>\n",
       "      <td>2.59</td>\n",
       "    </tr>\n",
       "    <tr>\n",
       "      <th>11</th>\n",
       "      <td>0.59</td>\n",
       "      <td>1.50</td>\n",
       "      <td>2.51</td>\n",
       "    </tr>\n",
       "    <tr>\n",
       "      <th>12</th>\n",
       "      <td>0.40</td>\n",
       "      <td>1.39</td>\n",
       "      <td>2.45</td>\n",
       "    </tr>\n",
       "    <tr>\n",
       "      <th>13</th>\n",
       "      <td>0.20</td>\n",
       "      <td>1.32</td>\n",
       "      <td>2.47</td>\n",
       "    </tr>\n",
       "  </tbody>\n",
       "</table>\n",
       "</div>"
      ],
      "text/plain": [
       "     Sup  FavG    TG\n",
       "0   2.97  3.04  3.61\n",
       "1   2.63  2.94  3.57\n",
       "2   2.38  2.69  3.31\n",
       "3   2.19  2.57  3.22\n",
       "4   1.99  2.39  3.07\n",
       "5   1.79  2.29  3.04\n",
       "6   1.59  2.20  2.99\n",
       "7   1.39  2.02  2.85\n",
       "8   1.19  1.87  2.75\n",
       "9   0.99  1.76  2.70\n",
       "10  0.79  1.63  2.59\n",
       "11  0.59  1.50  2.51\n",
       "12  0.40  1.39  2.45\n",
       "13  0.20  1.32  2.47"
      ]
     },
     "execution_count": 31,
     "metadata": {},
     "output_type": "execute_result"
    }
   ],
   "source": [
    "# new df with the above outputs\n",
    "data2 = [[a_1,a_2,a_3],\n",
    "        [b_1,b_2,b_3],\n",
    "        [c_1,c_2,c_3],\n",
    "        [d_1,d_2,d_3],\n",
    "        [e_1,e_2,e_3],\n",
    "        [f_1,f_2,f_3],\n",
    "        [g_1,g_2,g_3],\n",
    "        [h_1,h_2,h_3],\n",
    "        [i_1,i_2,i_3],\n",
    "        [j_1,j_2,j_3],\n",
    "        [k_1,k_2,k_3],\n",
    "        [l_1,l_2,l_3],\n",
    "        [m_1,m_2,m_3],\n",
    "        [n_1,n_2,n_3],\n",
    "       ]\n",
    "dfcomb2 = pd.DataFrame(data2, columns=['Sup','FavG','TG'])\n",
    "dfcomb2"
   ]
  },
  {
   "cell_type": "markdown",
   "id": "ff7c9c1e-c050-4f3e-a513-c95dc72cb565",
   "metadata": {},
   "source": [
    "#### Add another column giving the % of Total Match Goals scored by the Favourite ('%_FavG')"
   ]
  },
  {
   "cell_type": "code",
   "execution_count": 32,
   "id": "eff8902d-8e3a-492b-a94e-58db33b6ab6d",
   "metadata": {
    "tags": []
   },
   "outputs": [
    {
     "data": {
      "text/html": [
       "<div>\n",
       "<style scoped>\n",
       "    .dataframe tbody tr th:only-of-type {\n",
       "        vertical-align: middle;\n",
       "    }\n",
       "\n",
       "    .dataframe tbody tr th {\n",
       "        vertical-align: top;\n",
       "    }\n",
       "\n",
       "    .dataframe thead th {\n",
       "        text-align: right;\n",
       "    }\n",
       "</style>\n",
       "<table border=\"1\" class=\"dataframe\">\n",
       "  <thead>\n",
       "    <tr style=\"text-align: right;\">\n",
       "      <th></th>\n",
       "      <th>Sup</th>\n",
       "      <th>FavG</th>\n",
       "      <th>TG</th>\n",
       "      <th>%_FavG</th>\n",
       "    </tr>\n",
       "  </thead>\n",
       "  <tbody>\n",
       "    <tr>\n",
       "      <th>0</th>\n",
       "      <td>2.97</td>\n",
       "      <td>3.04</td>\n",
       "      <td>3.61</td>\n",
       "      <td>0.84</td>\n",
       "    </tr>\n",
       "    <tr>\n",
       "      <th>1</th>\n",
       "      <td>2.63</td>\n",
       "      <td>2.94</td>\n",
       "      <td>3.57</td>\n",
       "      <td>0.82</td>\n",
       "    </tr>\n",
       "    <tr>\n",
       "      <th>2</th>\n",
       "      <td>2.38</td>\n",
       "      <td>2.69</td>\n",
       "      <td>3.31</td>\n",
       "      <td>0.81</td>\n",
       "    </tr>\n",
       "    <tr>\n",
       "      <th>3</th>\n",
       "      <td>2.19</td>\n",
       "      <td>2.57</td>\n",
       "      <td>3.22</td>\n",
       "      <td>0.80</td>\n",
       "    </tr>\n",
       "    <tr>\n",
       "      <th>4</th>\n",
       "      <td>1.99</td>\n",
       "      <td>2.39</td>\n",
       "      <td>3.07</td>\n",
       "      <td>0.78</td>\n",
       "    </tr>\n",
       "    <tr>\n",
       "      <th>5</th>\n",
       "      <td>1.79</td>\n",
       "      <td>2.29</td>\n",
       "      <td>3.04</td>\n",
       "      <td>0.75</td>\n",
       "    </tr>\n",
       "    <tr>\n",
       "      <th>6</th>\n",
       "      <td>1.59</td>\n",
       "      <td>2.20</td>\n",
       "      <td>2.99</td>\n",
       "      <td>0.74</td>\n",
       "    </tr>\n",
       "    <tr>\n",
       "      <th>7</th>\n",
       "      <td>1.39</td>\n",
       "      <td>2.02</td>\n",
       "      <td>2.85</td>\n",
       "      <td>0.71</td>\n",
       "    </tr>\n",
       "    <tr>\n",
       "      <th>8</th>\n",
       "      <td>1.19</td>\n",
       "      <td>1.87</td>\n",
       "      <td>2.75</td>\n",
       "      <td>0.68</td>\n",
       "    </tr>\n",
       "    <tr>\n",
       "      <th>9</th>\n",
       "      <td>0.99</td>\n",
       "      <td>1.76</td>\n",
       "      <td>2.70</td>\n",
       "      <td>0.65</td>\n",
       "    </tr>\n",
       "    <tr>\n",
       "      <th>10</th>\n",
       "      <td>0.79</td>\n",
       "      <td>1.63</td>\n",
       "      <td>2.59</td>\n",
       "      <td>0.63</td>\n",
       "    </tr>\n",
       "    <tr>\n",
       "      <th>11</th>\n",
       "      <td>0.59</td>\n",
       "      <td>1.50</td>\n",
       "      <td>2.51</td>\n",
       "      <td>0.60</td>\n",
       "    </tr>\n",
       "    <tr>\n",
       "      <th>12</th>\n",
       "      <td>0.40</td>\n",
       "      <td>1.39</td>\n",
       "      <td>2.45</td>\n",
       "      <td>0.57</td>\n",
       "    </tr>\n",
       "    <tr>\n",
       "      <th>13</th>\n",
       "      <td>0.20</td>\n",
       "      <td>1.32</td>\n",
       "      <td>2.47</td>\n",
       "      <td>0.53</td>\n",
       "    </tr>\n",
       "  </tbody>\n",
       "</table>\n",
       "</div>"
      ],
      "text/plain": [
       "     Sup  FavG    TG  %_FavG\n",
       "0   2.97  3.04  3.61    0.84\n",
       "1   2.63  2.94  3.57    0.82\n",
       "2   2.38  2.69  3.31    0.81\n",
       "3   2.19  2.57  3.22    0.80\n",
       "4   1.99  2.39  3.07    0.78\n",
       "5   1.79  2.29  3.04    0.75\n",
       "6   1.59  2.20  2.99    0.74\n",
       "7   1.39  2.02  2.85    0.71\n",
       "8   1.19  1.87  2.75    0.68\n",
       "9   0.99  1.76  2.70    0.65\n",
       "10  0.79  1.63  2.59    0.63\n",
       "11  0.59  1.50  2.51    0.60\n",
       "12  0.40  1.39  2.45    0.57\n",
       "13  0.20  1.32  2.47    0.53"
      ]
     },
     "execution_count": 32,
     "metadata": {},
     "output_type": "execute_result"
    }
   ],
   "source": [
    "#add another column with % Fav Gls\n",
    "dfcomb2['%_FavG'] = round(dfcomb2['FavG'] / dfcomb2['TG'],2)\n",
    "dfcomb2\n"
   ]
  },
  {
   "cell_type": "markdown",
   "id": "0e9374ec-f00d-4dc1-ade1-32eb7e2be89d",
   "metadata": {},
   "source": [
    "#### Lets visualize the relationship linearly between Supremacy and % Fav Goals"
   ]
  },
  {
   "cell_type": "code",
   "execution_count": 33,
   "id": "d15de26c-ab3b-4af6-93f2-8d9e2a7d744a",
   "metadata": {
    "tags": []
   },
   "outputs": [
    {
     "data": {
      "image/png": "[encoded data removed]",
      "text/plain": [
       "<Figure size 640x480 with 1 Axes>"
      ]
     },
     "metadata": {},
     "output_type": "display_data"
    }
   ],
   "source": [
    "# Now lets plot the % split vs Sup for all matches\n",
    "slope, intercept, r_value, p_value, std_err = stats.linregress(dfcomb2['Sup'],dfcomb2['%_FavG'])\n",
    "\n",
    "# use line_kws to set line label for legend\n",
    "ax = sns.regplot(x=\"Sup\", y=\"%_FavG\", data=dfcomb2, color='pink', \n",
    " line_kws={'label':\"y={0:.1f}x+{1:.1f}\".format(slope,intercept)})\n",
    "\n",
    "# plot legend\n",
    "ax.legend()\n",
    "\n",
    "plt.show()"
   ]
  },
  {
   "cell_type": "markdown",
   "id": "44f9cfc3-0099-421f-9415-7534cdd04e61",
   "metadata": {},
   "source": [
    "#### Lets observe the evaluation metrics of this linear relationship"
   ]
  },
  {
   "cell_type": "code",
   "execution_count": 34,
   "id": "c3613628-2183-461b-b08c-328e6a4ae965",
   "metadata": {
    "tags": []
   },
   "outputs": [
    {
     "name": "stdout",
     "output_type": "stream",
     "text": [
      "The R-Square is:  0.9700989509606636\n",
      "Intercept is:  [0.53575578]\n",
      "Co-efficient is  [[0.11424462]]\n"
     ]
    }
   ],
   "source": [
    "# Lets look at a linear regression for this relationship and calculate the characteristics\n",
    "from sklearn.linear_model import LinearRegression\n",
    "\n",
    "lm = LinearRegression()\n",
    "X = dfcomb2[['Sup']]\n",
    "Y = dfcomb2[['%_FavG']]\n",
    "lm.fit(X,Y)\n",
    "print('The R-Square is: ', lm.score(X,Y))\n",
    "print('Intercept is: ',lm.intercept_)\n",
    "print('Co-efficient is ',lm.coef_)\n"
   ]
  },
  {
   "cell_type": "markdown",
   "id": "3aea475e-35c1-4660-a320-37023cb8aae5",
   "metadata": {},
   "source": [
    "#### At first glance the relationship does not suggest a linear relationship is the best fit. We can create a residual plot to better observe the trend around the regression line"
   ]
  },
  {
   "cell_type": "code",
   "execution_count": 35,
   "id": "ad4a2241-cf78-4e36-a43e-f40aa6788994",
   "metadata": {
    "tags": []
   },
   "outputs": [
    {
     "data": {
      "image/png": "[encoded data removed]",
      "text/plain": [
       "<Figure size 600x400 with 1 Axes>"
      ]
     },
     "metadata": {},
     "output_type": "display_data"
    }
   ],
   "source": [
    "# from the graph the relationship does not look entirely linear. Lets check with a residual plot\n",
    "width = 6\n",
    "height = 4\n",
    "plt.figure(figsize=(width, height))\n",
    "sns.residplot(x=dfcomb2['Sup'],y=dfcomb2['%_FavG'])\n",
    "plt.show()"
   ]
  },
  {
   "cell_type": "markdown",
   "id": "9ec10515-3f26-4095-863d-2ee480a8f9a2",
   "metadata": {},
   "source": [
    "#### The distribution of points at either end of the plot below the regression line suggests a curved relationship would be a better fit\n",
    "#### Lets explore a polynomial 3rd order fit "
   ]
  },
  {
   "cell_type": "code",
   "execution_count": 36,
   "id": "c200cbd0-fba5-49fc-acf3-68ce3f10d97b",
   "metadata": {
    "tags": []
   },
   "outputs": [],
   "source": [
    "# the distribution of data points around the regression line signifies a curved relationship is present\n",
    "# Lets define a function to show the polynomial relationship through which we can parse the independent and target variables\n",
    "\n",
    "def PlotPolly(model, ind_var, dep_var, Name):\n",
    "    x_new = np.linspace(0,3,15)\n",
    "    y_new = model(x_new)\n",
    "    \n",
    "    plt.plot(ind_var, dep_var, '.', x_new, y_new, '-')\n",
    "    plt.title('Polynomial fit for Sup ~ %_FavGls')\n",
    "    ax = plt.gca()\n",
    "    ax.set_facecolor((0.898,0.898, 0.898))\n",
    "    fig = plt.gcf()\n",
    "    plt.xlabel(Name)\n",
    "    plt.ylabel('%_FavGls')\n",
    "    \n",
    "    plt.show()\n",
    "    plt.close()\n",
    "    \n",
    "    "
   ]
  },
  {
   "cell_type": "code",
   "execution_count": 37,
   "id": "6e671716-8b08-4070-929d-ea65b86acd74",
   "metadata": {
    "tags": []
   },
   "outputs": [],
   "source": [
    "x = dfcomb2['Sup']\n",
    "y = dfcomb2['%_FavG']\n"
   ]
  },
  {
   "cell_type": "code",
   "execution_count": 38,
   "id": "6bbd5ae3-6ead-4e21-9f3e-e04f6077a6b8",
   "metadata": {
    "tags": []
   },
   "outputs": [
    {
     "name": "stdout",
     "output_type": "stream",
     "text": [
      "           3            2\n",
      "-0.003801 x - 0.006748 x + 0.1673 x + 0.5007\n"
     ]
    }
   ],
   "source": [
    "f = np.polyfit(x,y,3)\n",
    "p = np.poly1d(f)\n",
    "print(p)"
   ]
  },
  {
   "cell_type": "markdown",
   "id": "ec5cc340-d59d-46ad-934a-d1b97e381b9e",
   "metadata": {},
   "source": [
    "#### The cubic polynomial fit gives us a formula for the trend line. Lets plot this trend and see how it compares to the data points"
   ]
  },
  {
   "cell_type": "code",
   "execution_count": 39,
   "id": "04b1cfb4-c05b-4f42-bf56-32e6de3319dc",
   "metadata": {
    "tags": []
   },
   "outputs": [
    {
     "data": {
      "image/png": "[encoded data removed]",
      "text/plain": [
       "<Figure size 640x480 with 1 Axes>"
      ]
     },
     "metadata": {},
     "output_type": "display_data"
    }
   ],
   "source": [
    "# lets visualize this by by parsing the 'PlotPolly' function \n",
    "PlotPolly(p,x,y,'Sup')"
   ]
  },
  {
   "cell_type": "markdown",
   "id": "58843145-4cd1-44c9-b44b-ca01c67246ef",
   "metadata": {},
   "source": [
    "#### This is clearly a much better fit. Lets see how the evaluation metrics compare"
   ]
  },
  {
   "cell_type": "code",
   "execution_count": 40,
   "id": "5876d6dc-8c79-4954-a66a-f503469312ac",
   "metadata": {
    "tags": []
   },
   "outputs": [
    {
     "name": "stdout",
     "output_type": "stream",
     "text": [
      "The R-square value is:  0.9981175643539228\n"
     ]
    }
   ],
   "source": [
    "from sklearn.metrics import r2_score\n",
    "\n",
    "r_squared = r2_score(y, p(x))\n",
    "print('The R-square value is: ', r_squared)\n"
   ]
  },
  {
   "cell_type": "code",
   "execution_count": 41,
   "id": "b6b05de4-1f4d-4cfd-bb48-763e5b08bfd6",
   "metadata": {},
   "outputs": [
    {
     "data": {
      "text/plain": [
       "1.740388588906331e-05"
      ]
     },
     "execution_count": 41,
     "metadata": {},
     "output_type": "execute_result"
    }
   ],
   "source": [
    "from sklearn.metrics import mean_squared_error\n",
    "mean_squared_error(dfcomb2['%_FavG'],p(x))"
   ]
  },
  {
   "cell_type": "markdown",
   "id": "93eaf4fc-c20a-4708-a771-63059ce554be",
   "metadata": {
    "tags": []
   },
   "source": [
    "Conclusion:\n",
    "- With an R-square of 0.998, the 3 degree polynomial regression gives a better correlation for the bucketted data than the linear regression.\n",
    "- The expected % split of goals between the favourite and underdog can be said to be explained by the expected supremacy difference to a degree of 99.8%.\n",
    "- The percentage of goals scored by the pre-match favourite in a soccer match can therefore be said to follow the formula: \n",
    "##### % = -0.0038 * Sup^3  - 0.00675 * Sup^2 + 0.1673 * Sup + 0.501       \n"
   ]
  },
  {
   "cell_type": "markdown",
   "id": "4beee009-3057-4a2a-b6d7-b9f57fa0970e",
   "metadata": {},
   "source": [
    "___________________________________________________________________"
   ]
  }
 ],
 "metadata": {
  "kernelspec": {
   "display_name": "Python 3 (ipykernel)",
   "language": "python",
   "name": "python3"
  },
  "language_info": {
   "codemirror_mode": {
    "name": "ipython",
    "version": 3
   },
   "file_extension": ".py",
   "mimetype": "text/x-python",
   "name": "python",
   "nbconvert_exporter": "python",
   "pygments_lexer": "ipython3",
   "version": "3.10.5"
  }
 },
 "nbformat": 4,
 "nbformat_minor": 5
}
